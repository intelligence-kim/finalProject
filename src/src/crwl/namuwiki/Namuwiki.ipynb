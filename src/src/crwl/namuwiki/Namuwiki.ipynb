{
 "cells": [
  {
   "cell_type": "code",
   "execution_count": 66,
   "metadata": {},
   "outputs": [],
   "source": [
    "from datasets import load_dataset\n",
    "from tqdm import tqdm\n",
    "import pandas as pd\n",
    "class NamuwikiCrwl:\n",
    "    def __init__(self):\n",
    "        self.dataset = load_dataset(\"heegyu/namuwiki\")\n",
    "        print('Dataload Check')\n",
    "        print(self.dataset[\"train\"][0])\n",
    "        self.mbti_list = ['ISTJ','ISFJ','INFJ','INTJ',\n",
    "                            'ISTP','ISFP','INFP','INTP',\n",
    "                            'ESTP','ESFP','ENFP','ENTP',\n",
    "                            'ESTJ','ESFJ','ENFJ','ENTJ']\n",
    "\n",
    "    def mbti_number(self)->list :\n",
    "        namuwiki_number = []\n",
    "        for i in tqdm(range(len(self.dataset['train'])),desc='find mbti number'):\n",
    "            if self.dataset['train'][i]['title'] in self.mbti_list:\n",
    "                namuwiki_number.append(i)\n",
    "        return namuwiki_number\n",
    "\n",
    "    def make_pandas(self,namuwiki_number:list)->object:\n",
    "        mbti_df = pd.DataFrame()\n",
    "        for i in tqdm(range(len(namuwiki_number)), desc='make pandas'):\n",
    "            title = self.dataset['train'][namuwiki_number[i]]['title']\n",
    "            content = self.dataset['train'][namuwiki_number[i]]['text']\n",
    "            mbti_=pd.DataFrame({'title':title, 'content':content}, index=[title])\n",
    "            mbti_df=pd.concat([mbti_df,mbti_],axis=0)\n",
    "        mbti_df.to_csv(\"namuwiki_mbti.csv\",encoding='utf-8')\n",
    "        return mbti_df\n"
   ]
  },
  {
   "cell_type": "code",
   "execution_count": 67,
   "metadata": {},
   "outputs": [
    {
     "name": "stderr",
     "output_type": "stream",
     "text": [
      "Found cached dataset parquet (/Users/studio/.cache/huggingface/datasets/heegyu___parquet/heegyu--namuwiki-ad416814e2c61654/0.0.0/2a3b91fbd88a2c90d1dbbb32b460cf621d31bd5b05b934492fdef7d8d6f236ec)\n",
      "100%|██████████| 1/1 [00:00<00:00,  5.44it/s]\n"
     ]
    },
    {
     "name": "stdout",
     "output_type": "stream",
     "text": [
      "Dataload Check\n",
      "{'title': '!', 'text': '#redirect 느낌표\\n', 'contributors': 'r:hoon12560,namubot', 'namespace': ''}\n"
     ]
    },
    {
     "name": "stderr",
     "output_type": "stream",
     "text": [
      "find mbti number: 100%|██████████| 867024/867024 [01:17<00:00, 11186.15it/s]\n",
      "make pandas: 100%|██████████| 16/16 [00:00<00:00, 1163.39it/s]\n"
     ]
    }
   ],
   "source": [
    "dump_namuwiki = NamuwikiCrwl()\n",
    "number_list = dump_namuwiki.mbti_number()\n",
    "mbti_df = dump_namuwiki.make_pandas(number_list)"
   ]
  },
  {
   "cell_type": "code",
   "execution_count": 69,
   "metadata": {},
   "outputs": [
    {
     "data": {
      "text/html": [
       "<div>\n",
       "<style scoped>\n",
       "    .dataframe tbody tr th:only-of-type {\n",
       "        vertical-align: middle;\n",
       "    }\n",
       "\n",
       "    .dataframe tbody tr th {\n",
       "        vertical-align: top;\n",
       "    }\n",
       "\n",
       "    .dataframe thead th {\n",
       "        text-align: right;\n",
       "    }\n",
       "</style>\n",
       "<table border=\"1\" class=\"dataframe\">\n",
       "  <thead>\n",
       "    <tr style=\"text-align: right;\">\n",
       "      <th></th>\n",
       "      <th>title</th>\n",
       "      <th>content</th>\n",
       "    </tr>\n",
       "  </thead>\n",
       "  <tbody>\n",
       "    <tr>\n",
       "      <th>ENFJ</th>\n",
       "      <td>ENFJ</td>\n",
       "      <td>[include(틀:MBTI의 성격유형)]\\n[목차]\\n\\n== 개요 ==\\n[[M...</td>\n",
       "    </tr>\n",
       "    <tr>\n",
       "      <th>ENFP</th>\n",
       "      <td>ENFP</td>\n",
       "      <td>[include(틀:MBTI의 성격유형)]\\n[목차]\\n\\n== 개요 ==\\n[[M...</td>\n",
       "    </tr>\n",
       "    <tr>\n",
       "      <th>ISTJ</th>\n",
       "      <td>ISTJ</td>\n",
       "      <td>[include(틀:MBTI의 성격유형)]\\n[목차]\\n== 개요 ==\\n[[MBT...</td>\n",
       "    </tr>\n",
       "    <tr>\n",
       "      <th>ISFJ</th>\n",
       "      <td>ISFJ</td>\n",
       "      <td>[include(틀:MBTI의 성격유형)]\\n[목차]\\n== 개요 ==\\n[[MBT...</td>\n",
       "    </tr>\n",
       "    <tr>\n",
       "      <th>ESTJ</th>\n",
       "      <td>ESTJ</td>\n",
       "      <td>[include(틀:MBTI의 성격유형)]\\n[목차]\\n== 개요 ==\\n[[MBT...</td>\n",
       "    </tr>\n",
       "    <tr>\n",
       "      <th>ESFJ</th>\n",
       "      <td>ESFJ</td>\n",
       "      <td>[include(틀:MBTI의 성격유형)]\\n[목차]\\n== 개요 ==\\n[[MBT...</td>\n",
       "    </tr>\n",
       "    <tr>\n",
       "      <th>ISTP</th>\n",
       "      <td>ISTP</td>\n",
       "      <td>[include(틀:MBTI의 성격유형)]\\n[목차]\\n\\n== 개요 ==\\n[[M...</td>\n",
       "    </tr>\n",
       "    <tr>\n",
       "      <th>ISFP</th>\n",
       "      <td>ISFP</td>\n",
       "      <td>[include(틀:MBTI의 성격유형)]\\n[목차]\\n== 개요 ==\\n[[MBT...</td>\n",
       "    </tr>\n",
       "    <tr>\n",
       "      <th>ESTP</th>\n",
       "      <td>ESTP</td>\n",
       "      <td>[include(틀:MBTI의 성격유형)]\\n[목차]\\n== 개요 ==\\n[[MBT...</td>\n",
       "    </tr>\n",
       "    <tr>\n",
       "      <th>ESFP</th>\n",
       "      <td>ESFP</td>\n",
       "      <td>[include(틀:MBTI의 성격유형)]\\n[목차]\\n== 개요 ==\\n[[MBT...</td>\n",
       "    </tr>\n",
       "    <tr>\n",
       "      <th>INFJ</th>\n",
       "      <td>INFJ</td>\n",
       "      <td>[include(틀:MBTI의 성격유형)]\\n[목차]\\n== 개요 ==\\n[[MBT...</td>\n",
       "    </tr>\n",
       "    <tr>\n",
       "      <th>INFP</th>\n",
       "      <td>INFP</td>\n",
       "      <td>[include(틀:MBTI의 성격유형)]\\n[목차]\\n\\n== 개요 ==\\n[[M...</td>\n",
       "    </tr>\n",
       "    <tr>\n",
       "      <th>INTJ</th>\n",
       "      <td>INTJ</td>\n",
       "      <td>[include(틀:MBTI의 성격유형)]\\n[목차]\\n== 개요 ==\\n[[MBT...</td>\n",
       "    </tr>\n",
       "    <tr>\n",
       "      <th>ENTP</th>\n",
       "      <td>ENTP</td>\n",
       "      <td>[include(틀:MBTI의 성격유형)]\\n[목차]\\n== 개요 ==\\n[[MBT...</td>\n",
       "    </tr>\n",
       "    <tr>\n",
       "      <th>ENTJ</th>\n",
       "      <td>ENTJ</td>\n",
       "      <td>[include(틀:회원수정)]\\n[include(틀:MBTI의 성격유형)]\\n[목...</td>\n",
       "    </tr>\n",
       "    <tr>\n",
       "      <th>INTP</th>\n",
       "      <td>INTP</td>\n",
       "      <td>[include(틀:회원수정)]\\n[include(틀:MBTI의 성격유형)]\\n[목...</td>\n",
       "    </tr>\n",
       "  </tbody>\n",
       "</table>\n",
       "</div>"
      ],
      "text/plain": [
       "     title                                            content\n",
       "ENFJ  ENFJ  [include(틀:MBTI의 성격유형)]\\n[목차]\\n\\n== 개요 ==\\n[[M...\n",
       "ENFP  ENFP  [include(틀:MBTI의 성격유형)]\\n[목차]\\n\\n== 개요 ==\\n[[M...\n",
       "ISTJ  ISTJ  [include(틀:MBTI의 성격유형)]\\n[목차]\\n== 개요 ==\\n[[MBT...\n",
       "ISFJ  ISFJ  [include(틀:MBTI의 성격유형)]\\n[목차]\\n== 개요 ==\\n[[MBT...\n",
       "ESTJ  ESTJ  [include(틀:MBTI의 성격유형)]\\n[목차]\\n== 개요 ==\\n[[MBT...\n",
       "ESFJ  ESFJ  [include(틀:MBTI의 성격유형)]\\n[목차]\\n== 개요 ==\\n[[MBT...\n",
       "ISTP  ISTP  [include(틀:MBTI의 성격유형)]\\n[목차]\\n\\n== 개요 ==\\n[[M...\n",
       "ISFP  ISFP  [include(틀:MBTI의 성격유형)]\\n[목차]\\n== 개요 ==\\n[[MBT...\n",
       "ESTP  ESTP  [include(틀:MBTI의 성격유형)]\\n[목차]\\n== 개요 ==\\n[[MBT...\n",
       "ESFP  ESFP  [include(틀:MBTI의 성격유형)]\\n[목차]\\n== 개요 ==\\n[[MBT...\n",
       "INFJ  INFJ  [include(틀:MBTI의 성격유형)]\\n[목차]\\n== 개요 ==\\n[[MBT...\n",
       "INFP  INFP  [include(틀:MBTI의 성격유형)]\\n[목차]\\n\\n== 개요 ==\\n[[M...\n",
       "INTJ  INTJ  [include(틀:MBTI의 성격유형)]\\n[목차]\\n== 개요 ==\\n[[MBT...\n",
       "ENTP  ENTP  [include(틀:MBTI의 성격유형)]\\n[목차]\\n== 개요 ==\\n[[MBT...\n",
       "ENTJ  ENTJ  [include(틀:회원수정)]\\n[include(틀:MBTI의 성격유형)]\\n[목...\n",
       "INTP  INTP  [include(틀:회원수정)]\\n[include(틀:MBTI의 성격유형)]\\n[목..."
      ]
     },
     "execution_count": 69,
     "metadata": {},
     "output_type": "execute_result"
    }
   ],
   "source": [
    "mbti_df.head(20)"
   ]
  },
  {
   "cell_type": "code",
   "execution_count": null,
   "metadata": {},
   "outputs": [],
   "source": []
  },
  {
   "cell_type": "code",
   "execution_count": null,
   "metadata": {},
   "outputs": [],
   "source": []
  },
  {
   "cell_type": "code",
   "execution_count": null,
   "metadata": {},
   "outputs": [],
   "source": []
  },
  {
   "cell_type": "code",
   "execution_count": null,
   "metadata": {},
   "outputs": [],
   "source": []
  },
  {
   "cell_type": "code",
   "execution_count": null,
   "metadata": {},
   "outputs": [],
   "source": []
  }
 ],
 "metadata": {
  "kernelspec": {
   "display_name": "bert",
   "language": "python",
   "name": "python3"
  },
  "language_info": {
   "codemirror_mode": {
    "name": "ipython",
    "version": 3
   },
   "file_extension": ".py",
   "mimetype": "text/x-python",
   "name": "python",
   "nbconvert_exporter": "python",
   "pygments_lexer": "ipython3",
   "version": "3.9.7"
  },
  "orig_nbformat": 4
 },
 "nbformat": 4,
 "nbformat_minor": 2
}
