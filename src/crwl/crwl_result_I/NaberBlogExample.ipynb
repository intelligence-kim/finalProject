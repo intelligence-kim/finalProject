{
 "cells": [
  {
   "attachments": {},
   "cell_type": "markdown",
   "metadata": {},
   "source": [
    "# 네이버 블로그 크롤링 Selenium + Beautifulsoup"
   ]
  },
  {
   "cell_type": "code",
   "execution_count": 1,
   "metadata": {},
   "outputs": [],
   "source": [
    "from selenium import webdriver\n",
    "from selenium.webdriver.chrome.service import Service\n",
    "from selenium.webdriver.chrome.options import Options\n",
    "from webdriver_manager.chrome import ChromeDriverManager\n",
    "from selenium.webdriver.common.by import By\n",
    "from selenium.webdriver.common.keys import Keys\n",
    "\n",
    "\n",
    "import requests\n",
    "from bs4 import BeautifulSoup\n",
    "import time\n",
    "\n",
    "\n",
    "import time\n",
    "import os\n",
    "\n",
    "import pandas as pd\n",
    "import re"
   ]
  },
  {
   "cell_type": "code",
   "execution_count": 7,
   "metadata": {},
   "outputs": [],
   "source": [
    "chrome_options = Options()\n",
    "chrome_options.add_experimental_option(\"detach\", True)\n",
    "chrome_options.add_experimental_option(\"excludeSwitches\", [\"enable-logging\"])\n",
    "service = Service(executable_path=ChromeDriverManager().install())"
   ]
  },
  {
   "cell_type": "code",
   "execution_count": 12,
   "metadata": {},
   "outputs": [],
   "source": [
    "def NaberCrawling (keyword : str, browser : str):\n",
    "    keyword_input = keyword\n",
    "    keyword_input = keyword_input.replace(' ','+')\n",
    "\n",
    "    # browser = webdriver.Chrome(service=service,options=chrome_options)\n",
    "    # browser.maximize_window()\n",
    "    url = f\"https://search.naver.com/search.naver?query={keyword_input}&nso=&where=blog&sm=tab_opt\"\n",
    "    browser.get(url)\n",
    "    browser.implicitly_wait(2)\n",
    "\n",
    "\n",
    "    for i in range(30):\n",
    "        browser.find_element(By.CSS_SELECTOR,\"body\").send_keys(Keys.END)\n",
    "        time.sleep(1)\n",
    "        browser.execute_script(\"return window.scrollY\")\n",
    "    links = browser.find_elements(By.CSS_SELECTOR,\"div.total_area > a\")\n",
    "    blog_url = []\n",
    "    for link in links:\n",
    "        if ('blog.naver.com' in link.get_attribute('href')) and (link.get_attribute('href').find('b')==8):\n",
    "            blog_url.append(link.get_attribute('href'))\n",
    "\n",
    "    crwl_blog_title = []\n",
    "    crwl_blog_text = []\n",
    "    for i in range(len(blog_url)):\n",
    "        blog_text = ''\n",
    "        blog_title = ''\n",
    "        browser.get(blog_url[i])\n",
    "        browser.implicitly_wait(2.5)\n",
    "        browser.switch_to.frame(\"mainFrame\")\n",
    "        soup = BeautifulSoup(browser.page_source,'html.parser')\n",
    "        try:\n",
    "            text=soup.select(\"div.se-module-text\")\n",
    "            title=soup.select(\"div.pcol1\")\n",
    "            time.sleep(0.5)\n",
    "            for te in text:\n",
    "                blog_text += te.text\n",
    "            for ti in title:\n",
    "                blog_title += ti.text\n",
    "            crwl_blog_title.append(blog_title)\n",
    "            crwl_blog_text.append(blog_text)\n",
    "        except :\n",
    "            print(i)\n",
    "\n",
    "    return crwl_blog_title, crwl_blog_text"
   ]
  },
  {
   "cell_type": "code",
   "execution_count": 2,
   "metadata": {},
   "outputs": [],
   "source": [
    "Keywords = ['istp특징', 'istj특징', 'isfp특징', 'isfj특징', 'intp특징', 'intj특징', 'infp특징', 'infj특징']"
   ]
  },
  {
   "cell_type": "code",
   "execution_count": 13,
   "metadata": {},
   "outputs": [],
   "source": [
    "browser = webdriver.Chrome(service=service,options=chrome_options)\n",
    "browser.maximize_window()\n",
    "craw = []\n",
    "for mbti in range(len(Keywords)):\n",
    "    crwl = NaberCrawling(Keywords[mbti], browser)\n",
    "    # 문자정리\n",
    "    for i in range(2):\n",
    "        for j in range(len(crwl[i])):\n",
    "            crwl[i][j] = re.sub('\\n+', '', crwl[i][j])\n",
    "    #csv파일 만들기\n",
    "    pd.DataFrame(crwl).to_csv(Keywords[mbti] + '네이버 블로그 크롤링.csv')"
   ]
  },
  {
   "cell_type": "code",
   "execution_count": 6,
   "metadata": {},
   "outputs": [],
   "source": [
    "for mbti in range(len(Keywords)):\n",
    "    df_mbti = []\n",
    "    df_mbti = pd.read_csv('/Users/yerim/codes/test/'+Keywords[mbti] + '네이버 블로그 크롤링.csv')\n",
    "    df_mbti = df_mbti.T\n",
    "    pd.DataFrame(df_mbti).to_csv(Keywords[mbti]+'.csv')"
   ]
  },
  {
   "cell_type": "code",
   "execution_count": null,
   "metadata": {},
   "outputs": [],
   "source": []
  }
 ],
 "metadata": {
  "kernelspec": {
   "display_name": "bert",
   "language": "python",
   "name": "python3"
  },
  "language_info": {
   "codemirror_mode": {
    "name": "ipython",
    "version": 3
   },
   "file_extension": ".py",
   "mimetype": "text/x-python",
   "name": "python",
   "nbconvert_exporter": "python",
   "pygments_lexer": "ipython3",
   "version": "3.9.16"
  },
  "orig_nbformat": 4
 },
 "nbformat": 4,
 "nbformat_minor": 2
}
