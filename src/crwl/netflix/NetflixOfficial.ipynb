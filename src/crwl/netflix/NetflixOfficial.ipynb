{
 "cells": [
  {
   "cell_type": "code",
   "execution_count": 1,
   "metadata": {},
   "outputs": [],
   "source": [
    "import requests\n",
    "from bs4 import BeautifulSoup\n",
    "import time\n",
    "import pathlib\n",
    "import time\n",
    "import os\n",
    "import random\n",
    "\n",
    "from selenium import webdriver\n",
    "from selenium.webdriver.chrome.service import Service\n",
    "from selenium.webdriver.chrome.options import Options\n",
    "from webdriver_manager.chrome import ChromeDriverManager\n",
    "from selenium.webdriver.common.by import By\n",
    "from selenium.webdriver.common.keys import Keys\n",
    "\n",
    "import re\n",
    "import pandas as pd\n",
    "\n",
    "from tqdm import tqdm\n",
    "import numpy as np\n",
    "import urllib.request"
   ]
  },
  {
   "cell_type": "code",
   "execution_count": 33,
   "metadata": {},
   "outputs": [],
   "source": [
    "class NetflixOfficialCrwl:\n",
    "    def __init__(self,path):\n",
    "        self.chrome_options = Options()\n",
    "        self.chrome_options.add_experimental_option(\"detach\", True)\n",
    "        self.chrome_options.add_experimental_option(\"excludeSwitches\", [\"enable-logging\"])\n",
    "        self.service = Service(executable_path=ChromeDriverManager().install())\n",
    "\n",
    "        self.chrome_options.add_argument('--no-sandbox')\n",
    "        self.chrome_options.add_argument('--disable-dev-shm-usage')\n",
    "        self.chrome_options.add_argument(\"user-agent=Mozilla/5.0 (Windows NT 6.1; WOW64; Trident/7.0; rv:11.0) like Gecko\")\n",
    "        # self.chrome_options.add_argument(f'user-agent=Mozilla/5.0 (Macintosh; Intel Mac OS X 10_15_3) AppleWebKit/537.36 (KHTML, like Gecko) Chrome/80.0.3987.87 Safari/537.36')\n",
    "\n",
    "        self.path = pathlib.Path(f'{path}')\n",
    "        self.netflix_csv = pd.read_csv(self.path)\n",
    "\n",
    "    def netflix_official_crwl(self,start_number=0):\n",
    "        n_title = self.netflix_csv['nfid'][start_number:]\n",
    "        driver = webdriver.Chrome(service=self.service,options=self.chrome_options)\n",
    "        driver.implicitly_wait(10)\n",
    "        result = pd.DataFrame()\n",
    "        not_find = []\n",
    "        img_not_find = []\n",
    "        for n_t in tqdm(n_title):\n",
    "            url = 'https://www.netflix.com/kr/title/'\n",
    "            url += str(n_t)\n",
    "            driver.get(url)\n",
    "            time.sleep(round(0.5+random.random(),2))\n",
    "            try:\n",
    "                title = driver.find_element(By.CSS_SELECTOR,'h1.title-title').text\n",
    "                title = {'제목':title}\n",
    "                try:\n",
    "                    synopsis = driver.find_element(By.CSS_SELECTOR,'div.title-info-synopsis').text\n",
    "                    synopsis = {'시놉시스':synopsis}\n",
    "                except:\n",
    "                    synopsis = {'시놉시스':np.nan}\n",
    "\n",
    "                genres = driver.find_elements(By.CSS_SELECTOR,'span.more-details-item.item-genres')\n",
    "                genres_str= ''\n",
    "                for g in genres:\n",
    "                    genres_str+=g.text\n",
    "                genres_str = {'장르모음':genres_str}\n",
    "\n",
    "                people = driver.find_elements(By.CSS_SELECTOR,'span.more-details-item.item-cast')\n",
    "                people_str= ''\n",
    "                for p in people:\n",
    "                    people_str+=p.text+','\n",
    "                people_str = {'출연진':people_str}\n",
    "                try:\n",
    "                    feature = driver.find_elements(By.CSS_SELECTOR,'span.more-details-item.item-mood-tag')\n",
    "                    feature_str = ''\n",
    "                    for f in feature:\n",
    "                        feature_str+=f.text\n",
    "                    feature_str = {'특징':feature_str}     \n",
    "                except:\n",
    "                    feature_str = {'특징':np.nan}     \n",
    "\n",
    "\n",
    "                try:\n",
    "                    img=driver.find_element(By.CSS_SELECTOR,'div.hero-image.hero-image-desktop')\n",
    "                    img = img.get_attribute('style')\n",
    "                    img_src = {'img_src':re.search('\"(.+?)\"',img).group(1)}\n",
    "                    urllib.request.urlretrieve(img_src['img_src'],f'./img/{n_t}.jpg')\n",
    "                except:\n",
    "                    print(f'img not find {n_t}')\n",
    "                    img_not_find.append(n_t)\n",
    "                    img_src = {'img_src':np.nan}\n",
    "                metadata = driver.find_element(By.CSS_SELECTOR,'div.title-info-metadata-wrapper').text.split('|')\n",
    "                if len(metadata)==3: metadata.insert(2,'0')\n",
    "                    \n",
    "                \n",
    "                api_netflix = self.netflix_csv[self.netflix_csv['nfid']==n_t][['nfid','imdbid']].values[0]\n",
    "                n_i_id = {'nfid':api_netflix[0],'imdbid':api_netflix[1]}\n",
    "\n",
    "                df = pd.concat([pd.DataFrame([title]),pd.DataFrame([genres_str]),pd.DataFrame([synopsis]),pd.DataFrame([feature_str]),\n",
    "                                pd.DataFrame([people_str]),pd.DataFrame([metadata],columns=['개봉일','등급','상영시간','기본장르']),pd.DataFrame([n_i_id])]\n",
    "                                ,axis=1)\n",
    "                result = pd.concat([result,df])\n",
    "                # result.to_csv('test.csv',encoding='utf-8')\n",
    "            except:\n",
    "                # result.to_csv(f'n_{start_number}.csv',encoding='utf-8')\n",
    "                print(n_t)\n",
    "                not_find.append(n_t)\n",
    "                continue\n",
    "        result.to_csv('netflix_official_.csv',encoding='utf-8')\n",
    "        pd.DataFrame(not_find).to_csv('not.find.csv',encoding='utf-8')\n",
    "                \n",
    "    "
   ]
  },
  {
   "cell_type": "code",
   "execution_count": 34,
   "metadata": {},
   "outputs": [
    {
     "name": "stderr",
     "output_type": "stream",
     "text": [
      "  4%|▍         | 78/1742 [08:37<3:35:42,  7.78s/it]"
     ]
    },
    {
     "name": "stdout",
     "output_type": "stream",
     "text": [
      "80222720\n"
     ]
    },
    {
     "name": "stderr",
     "output_type": "stream",
     "text": [
      "  5%|▍         | 83/1742 [09:15<3:28:07,  7.53s/it]"
     ]
    },
    {
     "name": "stdout",
     "output_type": "stream",
     "text": [
      "81046957\n"
     ]
    },
    {
     "name": "stderr",
     "output_type": "stream",
     "text": [
      " 55%|█████▌    | 963/1742 [1:46:27<1:18:36,  6.05s/it]"
     ]
    },
    {
     "name": "stdout",
     "output_type": "stream",
     "text": [
      "80217151\n"
     ]
    },
    {
     "name": "stderr",
     "output_type": "stream",
     "text": [
      "100%|██████████| 1742/1742 [3:18:04<00:00,  6.82s/it]  \n"
     ]
    }
   ],
   "source": [
    "crwl = NetflixOfficialCrwl(path='../../../data/netflix_plus.csv')\n",
    "crwl.netflix_official_crwl()"
   ]
  }
 ],
 "metadata": {
  "kernelspec": {
   "display_name": "bert",
   "language": "python",
   "name": "python3"
  },
  "language_info": {
   "codemirror_mode": {
    "name": "ipython",
    "version": 3
   },
   "file_extension": ".py",
   "mimetype": "text/x-python",
   "name": "python",
   "nbconvert_exporter": "python",
   "pygments_lexer": "ipython3",
   "version": "3.9.7"
  },
  "orig_nbformat": 4
 },
 "nbformat": 4,
 "nbformat_minor": 2
}
