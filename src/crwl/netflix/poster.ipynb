{
 "cells": [
  {
   "cell_type": "markdown",
   "metadata": {},
   "source": [
    "### 밑에 넷플릭스 아이디랑 비밀번호 입력하시고 그냥 전체 실행 하시면 됩니다!"
   ]
  },
  {
   "cell_type": "code",
   "execution_count": 1,
   "metadata": {},
   "outputs": [],
   "source": [
    "import requests\n",
    "from bs4 import BeautifulSoup\n",
    "import time\n",
    "import pathlib\n",
    "import time\n",
    "import os\n",
    "import random\n",
    "\n",
    "from selenium import webdriver\n",
    "from selenium.webdriver.chrome.service import Service\n",
    "from selenium.webdriver.chrome.options import Options\n",
    "from webdriver_manager.chrome import ChromeDriverManager\n",
    "from selenium.webdriver.common.by import By\n",
    "from selenium.webdriver.common.keys import Keys\n",
    "\n",
    "import re\n",
    "import pandas as pd\n",
    "\n",
    "from tqdm import tqdm\n",
    "import numpy as np\n",
    "import urllib.request"
   ]
  },
  {
   "cell_type": "code",
   "execution_count": 3,
   "metadata": {},
   "outputs": [],
   "source": [
    "chrome_options = Options()\n",
    "chrome_options.add_experimental_option(\"detach\", True)\n",
    "chrome_options.add_experimental_option(\"excludeSwitches\", [\"enable-logging\"])\n",
    "service = Service(executable_path=ChromeDriverManager().install())\n",
    "\n",
    "chrome_options.add_argument('--no-sandbox')\n",
    "chrome_options.add_argument('--disable-dev-shm-usage')\n",
    "chrome_options.add_argument(\"user-agent=Mozilla/5.0 (Windows NT 6.1; WOW64; Trident/7.0; rv:11.0) like Gecko\")"
   ]
  },
  {
   "cell_type": "code",
   "execution_count": 2,
   "metadata": {},
   "outputs": [],
   "source": [
    "netflix = pd.read_csv('netflix_original_final.csv')"
   ]
  },
  {
   "cell_type": "code",
   "execution_count": 8,
   "metadata": {},
   "outputs": [
    {
     "name": "stderr",
     "output_type": "stream",
     "text": [
      "5it [00:19,  3.82s/it]\n"
     ]
    }
   ],
   "source": [
    "browser = webdriver.Chrome(service=service,options=chrome_options)\n",
    "\n",
    "browser.implicitly_wait(10)\n",
    "# browser.maximize_window()\n",
    "url = f\"https://www.netflix.com/browse\"\n",
    "browser.get(url)\n",
    "# 로그인 \n",
    "browser.find_element(By.CSS_SELECTOR,'input#id_userLoginId').send_keys('이메일id')\n",
    "time.sleep(1.5)\n",
    "browser.find_element(By.CSS_SELECTOR,'input#id_password').send_keys('비밀번호')\n",
    "browser.find_element(By.CSS_SELECTOR,'input#static-login-cta').click()\n",
    "\n",
    "\n",
    "\n",
    "url_dict = {}\n",
    "for i,title in tqdm(enumerate(netflix['제목'])):\n",
    "    if i==5: break\n",
    "    url = f'https://www.netflix.com/search?q={title}'\n",
    "    browser.get(url)\n",
    "    time.sleep(0.4)\n",
    "    try:\n",
    "        title_object = browser.find_elements(By.CSS_SELECTOR,'a.watch-title')\n",
    "        for object in title_object:\n",
    "            if str(netflix[netflix['제목']==title].nfid.values[0]) in object.get_attribute('href'):\n",
    "                url = object.find_element(By.CSS_SELECTOR,'div.title-boxart').get_attribute('style')\n",
    "                url = re.search('\"(.+?)\"',url).group(1)\n",
    "                url_dict[netflix[netflix['제목']==title].nfid.values[0]]=url\n",
    "    except:\n",
    "        print(f'not_found = {title}')\n",
    "\n",
    "df = pd.DataFrame([url_dict.keys(),url_dict.values()]).T\n",
    "df.columns=['nfid','poster']\n",
    "df.to_csv('poster.csv',index=False)"
   ]
  }
 ],
 "metadata": {
  "kernelspec": {
   "display_name": "project",
   "language": "python",
   "name": "python3"
  },
  "language_info": {
   "codemirror_mode": {
    "name": "ipython",
    "version": 3
   },
   "file_extension": ".py",
   "mimetype": "text/x-python",
   "name": "python",
   "nbconvert_exporter": "python",
   "pygments_lexer": "ipython3",
   "version": "3.9.7"
  },
  "orig_nbformat": 4
 },
 "nbformat": 4,
 "nbformat_minor": 2
}
