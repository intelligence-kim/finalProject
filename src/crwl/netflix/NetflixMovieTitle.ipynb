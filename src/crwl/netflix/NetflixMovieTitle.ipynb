{
 "cells": [
  {
   "cell_type": "code",
   "execution_count": 5,
   "metadata": {},
   "outputs": [],
   "source": [
    "import pandas as pd\n",
    "import requests\n",
    "import time\n",
    "from tqdm import tqdm\n",
    "class RapidApiMovie:\n",
    "    def __init__(self):\n",
    "        self.url = \"https://unogsng.p.rapidapi.com/search\"\n",
    "\n",
    "        self.querystring = {\"newdate\":\"1989-01-01\",\"start_year\":\"1990\",\"orderby\":\"rating\",\"audiosubtitle_andor\":\"and\",\n",
    "                    \"start_rating\":\"6.5\",\"limit\":\"100\",\"subtitle\":\"english\",\"countrylist\":\"348\",\"end_year\":\"2023\",\"offset\":\"0\"}\n",
    "\n",
    "        self.headers = {\n",
    "            \"X-RapidAPI-Key\": \"..\",\n",
    "            \"X-RapidAPI-Host\": \"..\",\n",
    "        }\n",
    "\n",
    "    def api_crwl(self)->list:\n",
    "        movie_list = pd.DataFrame()\n",
    "        count = tqdm(list(range(5)))\n",
    "        for i in count:\n",
    "            response = requests.get(self.url, headers=self.headers, params=self.querystring)\n",
    "            time.sleep(0.5)\n",
    "            try:\n",
    "                movie = pd.DataFrame(response.json()['results'])\n",
    "            except:\n",
    "                break\n",
    "            movie_list = pd.concat([movie_list,movie])\n",
    "            self.querystring['offset'] = str(int(self.querystring['offset'])+int(self.querystring['limit']))\n",
    "            count.set_description(f\"NOW OFFSET : {self.querystring['offset']}\")\n",
    "            \n",
    "\n",
    "        movie_list.to_csv(\"netflix_title.csv\",encoding='utf-8')\n",
    "        print('END OFFSET : ' + self.querystring['offset'])\n",
    "        return movie_list\n"
   ]
  },
  {
   "cell_type": "code",
   "execution_count": 6,
   "metadata": {},
   "outputs": [
    {
     "name": "stderr",
     "output_type": "stream",
     "text": [
      "  0%|          | 0/3 [00:00<?, ?it/s]"
     ]
    },
    {
     "name": "stdout",
     "output_type": "stream",
     "text": [
      "END OFFSET : 0\n"
     ]
    },
    {
     "name": "stderr",
     "output_type": "stream",
     "text": [
      "\n"
     ]
    }
   ],
   "source": [
    "test = RapidApiMovie()\n",
    "df = test.api_crwl()"
   ]
  }
 ],
 "metadata": {
  "kernelspec": {
   "display_name": "bert",
   "language": "python",
   "name": "python3"
  },
  "language_info": {
   "codemirror_mode": {
    "name": "ipython",
    "version": 3
   },
   "file_extension": ".py",
   "mimetype": "text/x-python",
   "name": "python",
   "nbconvert_exporter": "python",
   "pygments_lexer": "ipython3",
   "version": "3.9.7"
  },
  "orig_nbformat": 4
 },
 "nbformat": 4,
 "nbformat_minor": 2
}
