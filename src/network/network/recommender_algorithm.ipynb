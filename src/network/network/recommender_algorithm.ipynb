{
 "cells": [
  {
   "cell_type": "code",
   "execution_count": 1,
   "metadata": {},
   "outputs": [],
   "source": [
    "import Graph\n",
    "import pandas as pd\n",
    "import json\n",
    "from ast import literal_eval\n",
    "import networkx as nx\n",
    "from tqdm import tqdm\n",
    "import WordPreprocessing\n",
    "import math\n",
    "import community\n",
    "\n",
    "import pickle\n",
    "import random\n",
    "from gensim.models.keyedvectors import Word2VecKeyedVectors\n",
    "s=WordPreprocessing.sentence()"
   ]
  },
  {
   "cell_type": "code",
   "execution_count": 2,
   "metadata": {},
   "outputs": [],
   "source": [
    "def top_n(count_dict, reverse, n=3):\n",
    "    return dict(sorted(count_dict.items(), reverse=reverse, key=lambda x: x[1])[:n])"
   ]
  },
  {
   "cell_type": "code",
   "execution_count": 3,
   "metadata": {},
   "outputs": [],
   "source": [
    "def make_info():\n",
    "    title=pd.read_csv('./EndData/total_review_end.csv',index_col=0)['title']\n",
    "    nfid=pd.read_csv('./EndData/total_review_end.csv',index_col=0)['nfid']\n",
    "    return pd.concat([nfid,title],axis=1)"
   ]
  },
  {
   "cell_type": "code",
   "execution_count": 4,
   "metadata": {},
   "outputs": [],
   "source": [
    "def recommend(mbti,title):\n",
    "    gm = Graph.MakeGraph(mbti_data=1)\n",
    "    g = pickle.load(open(f'../../../../바탕화면/데이터/final_graph/{mbti}.pickle', 'rb'))\n",
    "    model = Word2VecKeyedVectors.load(f'../../../../바탕화면/데이터/model/{mbti}.model')\n",
    "\n",
    "    dic = {}\n",
    "    for n,ti in tqdm(enumerate(list(title))):\n",
    "        # if n==10: break\n",
    "        w=0\n",
    "        weight = []\n",
    "        for tar in [f'{mbti.lower()}']:\n",
    "            c=1\n",
    "            d = nx.shortest_path(g,source=tar,target=ti,weight='distance')\n",
    "            for i in range(0,len(d)-1):\n",
    "                w1 = model.similarity(str(d[i]),str(d[i+1]))\n",
    "                \n",
    "                w2 = model.similarity(f'{tar}',str(d[i+1]))\n",
    "                w3 = model.distance(str(d[i]),str(d[i+1]))\n",
    "        \n",
    "                if 'p' in tar:\n",
    "                    w += (w1+w2)*w3\n",
    "                else:\n",
    "                    w += (w1)*w3\n",
    "                c+=0.5\n",
    "            weight.append(round(w/c,3))\n",
    "        dic[ti]=max(weight)\n",
    "    return dic"
   ]
  },
  {
   "cell_type": "code",
   "execution_count": 6,
   "metadata": {},
   "outputs": [],
   "source": [
    "def recommend_keyword(mbti,title,keyword):\n",
    "    gm = Graph.MakeGraph(mbti_data=1)\n",
    "    g = pickle.load(open(f'../../../../바탕화면/데이터/final_graph/{mbti}.pickle', 'rb'))\n",
    "    model = Word2VecKeyedVectors.load(f'../../../../바탕화면/데이터/model/{mbti}.model')\n",
    "    mbti = mbti.lower()\n",
    "    dic={}\n",
    "    movie_list = []\n",
    "    \n",
    "    for n,ti in tqdm((enumerate(title))):\n",
    "        w=0\n",
    "        c=1\n",
    "        weight = []\n",
    "        \n",
    "        \n",
    "        d = nx.shortest_path(g,f'{mbti}',f'{keyword}',weight='distance')\n",
    "        d.extend(nx.shortest_path(g,f'{keyword}',f'{ti}',weight='distance')[1:])\n",
    "        for i in range(0,len(d)-1):\n",
    "            w1 = model.similarity(str(d[i]),str(d[i+1]))\n",
    "            w2 = model.similarity(f'{mbti}',str(d[i+1]))\n",
    "            w3 = model.distance(str(d[i]),str(d[i+1]))\n",
    "\n",
    "            w += (w1+w2)*w3\n",
    "            c*=1.5\n",
    "        weight.append(round(w/c,3))\n",
    "        dic[ti]=max(weight)\n",
    "    movie_list.extend(list(top_n(dic,True,20).keys()))\n",
    "    return movie_list\n",
    "    \n"
   ]
  },
  {
   "cell_type": "code",
   "execution_count": 7,
   "metadata": {},
   "outputs": [],
   "source": [
    "def recommender_sysyem(mbti,info_df,keyword=None):\n",
    "    if keyword==None:\n",
    "        movie_list = recommend(f'{mbti}',info_df['title'])\n",
    "        top_40 = list(top_n(movie_list,True,40).keys())\n",
    "        sample_list = random.sample(top_40,5)\n",
    "    else:\n",
    "        movie_list = [] \n",
    "        for k in keyword:\n",
    "            if k!=None:\n",
    "                movie_list.extend(recommend_keyword(f'{mbti}',info_df['title'],k))\n",
    "        sample_list = random.sample(sum([],movie_list),5)\n",
    "        \n",
    "    return list(info_df[info_df['title'].isin(sample_list)]['nfid'])\n",
    "    "
   ]
  },
  {
   "cell_type": "code",
   "execution_count": 9,
   "metadata": {},
   "outputs": [],
   "source": [
    "info_df = pd.read_csv('../../../../바탕화면/데이터/info_df.csv')"
   ]
  },
  {
   "cell_type": "code",
   "execution_count": 10,
   "metadata": {},
   "outputs": [],
   "source": [
    "keyword=['잔인','메시지']"
   ]
  },
  {
   "cell_type": "code",
   "execution_count": 11,
   "metadata": {},
   "outputs": [
    {
     "name": "stderr",
     "output_type": "stream",
     "text": [
      "2023-08-09 20:05:31,985 : INFO : loading Word2VecKeyedVectors object from ../../../../바탕화면/데이터/model/INTP.model\n",
      "2023-08-09 20:05:32,074 : INFO : setting ignored attribute vectors_norm to None\n",
      "2023-08-09 20:05:32,074 : INFO : loaded ../../../../바탕화면/데이터/model/INTP.model\n",
      "418it [00:08, 50.23it/s]\n",
      "2023-08-09 20:05:40,460 : INFO : loading Word2VecKeyedVectors object from ../../../../바탕화면/데이터/model/INTP.model\n",
      "2023-08-09 20:05:40,556 : INFO : setting ignored attribute vectors_norm to None\n",
      "2023-08-09 20:05:40,557 : INFO : loaded ../../../../바탕화면/데이터/model/INTP.model\n",
      "418it [00:08, 47.74it/s]\n"
     ]
    }
   ],
   "source": [
    "l=recommender_sysyem('INTP',info_df,keyword)"
   ]
  },
  {
   "cell_type": "code",
   "execution_count": 12,
   "metadata": {},
   "outputs": [
    {
     "data": {
      "text/plain": [
       "[70241118, 80014749, 81321999, 80174974, 70270364]"
      ]
     },
     "execution_count": 12,
     "metadata": {},
     "output_type": "execute_result"
    }
   ],
   "source": [
    "l"
   ]
  },
  {
   "cell_type": "code",
   "execution_count": 13,
   "metadata": {},
   "outputs": [
    {
     "name": "stderr",
     "output_type": "stream",
     "text": [
      "2023-08-09 20:06:47,935 : INFO : loading Word2VecKeyedVectors object from ../../../../바탕화면/데이터/model/INTP.model\n",
      "2023-08-09 20:06:47,973 : INFO : setting ignored attribute vectors_norm to None\n",
      "2023-08-09 20:06:48,036 : INFO : loaded ../../../../바탕화면/데이터/model/INTP.model\n",
      "418it [00:02, 181.38it/s]\n"
     ]
    }
   ],
   "source": [
    "l=recommender_sysyem('INTP',info_df)"
   ]
  },
  {
   "cell_type": "code",
   "execution_count": 14,
   "metadata": {},
   "outputs": [
    {
     "data": {
      "text/plain": [
       "[70264888, 70012909, 81008221, 70305907, 81121351]"
      ]
     },
     "execution_count": 14,
     "metadata": {},
     "output_type": "execute_result"
    }
   ],
   "source": [
    "l"
   ]
  },
  {
   "cell_type": "markdown",
   "metadata": {},
   "source": [
    "# 노드 삭제"
   ]
  },
  {
   "cell_type": "code",
   "execution_count": 377,
   "metadata": {},
   "outputs": [],
   "source": [
    "info_df.index=info_df['nfid']"
   ]
  },
  {
   "cell_type": "code",
   "execution_count": 368,
   "metadata": {},
   "outputs": [
    {
     "data": {
      "text/plain": [
       "['81161927',\n",
       " '81254340',\n",
       " '80176842',\n",
       " '81497886',\n",
       " '81078819',\n",
       " '81354041',\n",
       " '70142405',\n",
       " '81671553',\n",
       " '81106901']"
      ]
     },
     "execution_count": 368,
     "metadata": {},
     "output_type": "execute_result"
    }
   ],
   "source": [
    "nfid_list"
   ]
  },
  {
   "cell_type": "code",
   "execution_count": 371,
   "metadata": {},
   "outputs": [
    {
     "data": {
      "text/html": [
       "<div>\n",
       "<style scoped>\n",
       "    .dataframe tbody tr th:only-of-type {\n",
       "        vertical-align: middle;\n",
       "    }\n",
       "\n",
       "    .dataframe tbody tr th {\n",
       "        vertical-align: top;\n",
       "    }\n",
       "\n",
       "    .dataframe thead th {\n",
       "        text-align: right;\n",
       "    }\n",
       "</style>\n",
       "<table border=\"1\" class=\"dataframe\">\n",
       "  <thead>\n",
       "    <tr style=\"text-align: right;\">\n",
       "      <th></th>\n",
       "      <th>nfid</th>\n",
       "      <th>title</th>\n",
       "    </tr>\n",
       "    <tr>\n",
       "      <th>nfid</th>\n",
       "      <th></th>\n",
       "      <th></th>\n",
       "    </tr>\n",
       "  </thead>\n",
       "  <tbody>\n",
       "    <tr>\n",
       "      <th>81161927</th>\n",
       "      <td>81161927</td>\n",
       "      <td>리얼</td>\n",
       "    </tr>\n",
       "    <tr>\n",
       "      <th>81254340</th>\n",
       "      <td>81254340</td>\n",
       "      <td>데이트 앱 사기: 당신을 노린다</td>\n",
       "    </tr>\n",
       "    <tr>\n",
       "      <th>80176842</th>\n",
       "      <td>80176842</td>\n",
       "      <td>아는 형님</td>\n",
       "    </tr>\n",
       "    <tr>\n",
       "      <th>81497886</th>\n",
       "      <td>81497886</td>\n",
       "      <td>샤펠 사단 - 어스퀘이크: 전설의 코미디</td>\n",
       "    </tr>\n",
       "    <tr>\n",
       "      <th>81078819</th>\n",
       "      <td>81078819</td>\n",
       "      <td>브레이킹 배드 무비: 엘 카미노</td>\n",
       "    </tr>\n",
       "    <tr>\n",
       "      <th>81354041</th>\n",
       "      <td>81354041</td>\n",
       "      <td>사이버 지옥: n번방을 무너뜨려라</td>\n",
       "    </tr>\n",
       "    <tr>\n",
       "      <th>70142405</th>\n",
       "      <td>70142405</td>\n",
       "      <td>아바타 아앙의 전설</td>\n",
       "    </tr>\n",
       "    <tr>\n",
       "      <th>81671553</th>\n",
       "      <td>81671553</td>\n",
       "      <td>압꾸정</td>\n",
       "    </tr>\n",
       "    <tr>\n",
       "      <th>81106901</th>\n",
       "      <td>81106901</td>\n",
       "      <td>블랙핑크: 세상을 밝혀라</td>\n",
       "    </tr>\n",
       "  </tbody>\n",
       "</table>\n",
       "</div>"
      ],
      "text/plain": [
       "              nfid                   title\n",
       "nfid                                      \n",
       "81161927  81161927                      리얼\n",
       "81254340  81254340       데이트 앱 사기: 당신을 노린다\n",
       "80176842  80176842                   아는 형님\n",
       "81497886  81497886  샤펠 사단 - 어스퀘이크: 전설의 코미디\n",
       "81078819  81078819       브레이킹 배드 무비: 엘 카미노\n",
       "81354041  81354041      사이버 지옥: n번방을 무너뜨려라\n",
       "70142405  70142405              아바타 아앙의 전설\n",
       "81671553  81671553                     압꾸정\n",
       "81106901  81106901           블랙핑크: 세상을 밝혀라"
      ]
     },
     "execution_count": 371,
     "metadata": {},
     "output_type": "execute_result"
    }
   ],
   "source": [
    "info_df.loc[nfid_list]"
   ]
  },
  {
   "cell_type": "code",
   "execution_count": 372,
   "metadata": {},
   "outputs": [],
   "source": [
    "info_df.drop(nfid_list,axis=0,inplace=True)"
   ]
  },
  {
   "cell_type": "code",
   "execution_count": 379,
   "metadata": {},
   "outputs": [],
   "source": [
    "info_df.index=range(len(info_df))"
   ]
  },
  {
   "cell_type": "code",
   "execution_count": 382,
   "metadata": {},
   "outputs": [
    {
     "data": {
      "text/html": [
       "<div>\n",
       "<style scoped>\n",
       "    .dataframe tbody tr th:only-of-type {\n",
       "        vertical-align: middle;\n",
       "    }\n",
       "\n",
       "    .dataframe tbody tr th {\n",
       "        vertical-align: top;\n",
       "    }\n",
       "\n",
       "    .dataframe thead th {\n",
       "        text-align: right;\n",
       "    }\n",
       "</style>\n",
       "<table border=\"1\" class=\"dataframe\">\n",
       "  <thead>\n",
       "    <tr style=\"text-align: right;\">\n",
       "      <th></th>\n",
       "      <th>nfid</th>\n",
       "      <th>title</th>\n",
       "    </tr>\n",
       "  </thead>\n",
       "  <tbody>\n",
       "    <tr>\n",
       "      <th>11</th>\n",
       "      <td>70118372</td>\n",
       "      <td>마더</td>\n",
       "    </tr>\n",
       "  </tbody>\n",
       "</table>\n",
       "</div>"
      ],
      "text/plain": [
       "        nfid title\n",
       "11  70118372    마더"
      ]
     },
     "execution_count": 382,
     "metadata": {},
     "output_type": "execute_result"
    }
   ],
   "source": [
    "info_df[info_df['title']=='마더']"
   ]
  },
  {
   "cell_type": "code",
   "execution_count": 384,
   "metadata": {},
   "outputs": [],
   "source": [
    "info_df.to_csv('info_df.csv',index=False)"
   ]
  },
  {
   "cell_type": "code",
   "execution_count": 7,
   "metadata": {},
   "outputs": [
    {
     "data": {
      "text/html": [
       "<div>\n",
       "<style scoped>\n",
       "    .dataframe tbody tr th:only-of-type {\n",
       "        vertical-align: middle;\n",
       "    }\n",
       "\n",
       "    .dataframe tbody tr th {\n",
       "        vertical-align: top;\n",
       "    }\n",
       "\n",
       "    .dataframe thead th {\n",
       "        text-align: right;\n",
       "    }\n",
       "</style>\n",
       "<table border=\"1\" class=\"dataframe\">\n",
       "  <thead>\n",
       "    <tr style=\"text-align: right;\">\n",
       "      <th></th>\n",
       "      <th>nfid</th>\n",
       "      <th>title</th>\n",
       "    </tr>\n",
       "  </thead>\n",
       "  <tbody>\n",
       "    <tr>\n",
       "      <th>0</th>\n",
       "      <td>80987077</td>\n",
       "      <td>시그널</td>\n",
       "    </tr>\n",
       "    <tr>\n",
       "      <th>1</th>\n",
       "      <td>70020509</td>\n",
       "      <td>히트</td>\n",
       "    </tr>\n",
       "    <tr>\n",
       "      <th>2</th>\n",
       "      <td>80113804</td>\n",
       "      <td>아가씨</td>\n",
       "    </tr>\n",
       "    <tr>\n",
       "      <th>3</th>\n",
       "      <td>70241118</td>\n",
       "      <td>도가니</td>\n",
       "    </tr>\n",
       "    <tr>\n",
       "      <th>4</th>\n",
       "      <td>60002360</td>\n",
       "      <td>쥬라기 공원</td>\n",
       "    </tr>\n",
       "    <tr>\n",
       "      <th>...</th>\n",
       "      <td>...</td>\n",
       "      <td>...</td>\n",
       "    </tr>\n",
       "    <tr>\n",
       "      <th>413</th>\n",
       "      <td>80100172</td>\n",
       "      <td>다크</td>\n",
       "    </tr>\n",
       "    <tr>\n",
       "      <th>414</th>\n",
       "      <td>70032593</td>\n",
       "      <td>유령신부</td>\n",
       "    </tr>\n",
       "    <tr>\n",
       "      <th>415</th>\n",
       "      <td>70155547</td>\n",
       "      <td>스폰지밥 네모바지</td>\n",
       "    </tr>\n",
       "    <tr>\n",
       "      <th>416</th>\n",
       "      <td>80010655</td>\n",
       "      <td>블러드라인</td>\n",
       "    </tr>\n",
       "    <tr>\n",
       "      <th>417</th>\n",
       "      <td>80158285</td>\n",
       "      <td>리전</td>\n",
       "    </tr>\n",
       "  </tbody>\n",
       "</table>\n",
       "<p>418 rows × 2 columns</p>\n",
       "</div>"
      ],
      "text/plain": [
       "         nfid      title\n",
       "0    80987077        시그널\n",
       "1    70020509         히트\n",
       "2    80113804        아가씨\n",
       "3    70241118        도가니\n",
       "4    60002360     쥬라기 공원\n",
       "..        ...        ...\n",
       "413  80100172         다크\n",
       "414  70032593       유령신부\n",
       "415  70155547  스폰지밥 네모바지\n",
       "416  80010655      블러드라인\n",
       "417  80158285         리전\n",
       "\n",
       "[418 rows x 2 columns]"
      ]
     },
     "execution_count": 7,
     "metadata": {},
     "output_type": "execute_result"
    }
   ],
   "source": [
    "pd.read_csv('./info_df.csv')"
   ]
  },
  {
   "cell_type": "code",
   "execution_count": 376,
   "metadata": {},
   "outputs": [],
   "source": [
    "duplicate=[80177458,81292901]"
   ]
  },
  {
   "cell_type": "code",
   "execution_count": 378,
   "metadata": {},
   "outputs": [],
   "source": [
    "info_df.drop(duplicate,axis=0,inplace=True)"
   ]
  },
  {
   "cell_type": "code",
   "execution_count": 12,
   "metadata": {},
   "outputs": [],
   "source": [
    "mbti_list = ['ISTJ','ISFJ','INFJ','INTJ',\n",
    "                        'ISTP','ISFP','INFP','INTP',\n",
    "                        'ESTP','ESFP','ENFP','ENTP',\n",
    "                        'ESTJ','ESFJ','ENFJ','ENTJ']"
   ]
  },
  {
   "cell_type": "code",
   "execution_count": 16,
   "metadata": {},
   "outputs": [
    {
     "name": "stdout",
     "output_type": "stream",
     "text": [
      "리얼, 데이트 앱 사기: 당신을 노린다,아는 형님 ISTJ\n",
      "압꾸정,블랙핑크: 세상을 밝혀라 ISTJ\n",
      "리얼, 데이트 앱 사기: 당신을 노린다,아는 형님 ISFJ\n",
      "압꾸정,블랙핑크: 세상을 밝혀라 ISFJ\n",
      "리얼, 데이트 앱 사기: 당신을 노린다,아는 형님 INFJ\n",
      "압꾸정,블랙핑크: 세상을 밝혀라 INFJ\n",
      "리얼, 데이트 앱 사기: 당신을 노린다,아는 형님 INTJ\n",
      "압꾸정,블랙핑크: 세상을 밝혀라 INTJ\n",
      "리얼, 데이트 앱 사기: 당신을 노린다,아는 형님 ISTP\n",
      "압꾸정,블랙핑크: 세상을 밝혀라 ISTP\n",
      "리얼, 데이트 앱 사기: 당신을 노린다,아는 형님 ISFP\n",
      "압꾸정,블랙핑크: 세상을 밝혀라 ISFP\n",
      "리얼, 데이트 앱 사기: 당신을 노린다,아는 형님 INFP\n",
      "압꾸정,블랙핑크: 세상을 밝혀라 INFP\n",
      "리얼, 데이트 앱 사기: 당신을 노린다,아는 형님 INTP\n",
      "압꾸정,블랙핑크: 세상을 밝혀라 INTP\n",
      "리얼, 데이트 앱 사기: 당신을 노린다,아는 형님 ESTP\n",
      "압꾸정,블랙핑크: 세상을 밝혀라 ESTP\n",
      "리얼, 데이트 앱 사기: 당신을 노린다,아는 형님 ESFP\n",
      "압꾸정,블랙핑크: 세상을 밝혀라 ESFP\n",
      "리얼, 데이트 앱 사기: 당신을 노린다,아는 형님 ENFP\n",
      "압꾸정,블랙핑크: 세상을 밝혀라 ENFP\n",
      "리얼, 데이트 앱 사기: 당신을 노린다,아는 형님 ENTP\n",
      "압꾸정,블랙핑크: 세상을 밝혀라 ENTP\n",
      "리얼, 데이트 앱 사기: 당신을 노린다,아는 형님 ESTJ\n",
      "압꾸정,블랙핑크: 세상을 밝혀라 ESTJ\n",
      "리얼, 데이트 앱 사기: 당신을 노린다,아는 형님 ESFJ\n",
      "압꾸정,블랙핑크: 세상을 밝혀라 ESFJ\n",
      "리얼, 데이트 앱 사기: 당신을 노린다,아는 형님 ENFJ\n",
      "압꾸정,블랙핑크: 세상을 밝혀라 ENFJ\n",
      "리얼, 데이트 앱 사기: 당신을 노린다,아는 형님 ENTJ\n",
      "압꾸정,블랙핑크: 세상을 밝혀라 ENTJ\n"
     ]
    }
   ],
   "source": [
    "for mbti in mbti_list:\n",
    "    for name in name_list:\n",
    "        gm = Graph.MakeGraph(mbti_data=1)\n",
    "        g = pickle.load(open(f'./network/final_graph/sample2/{mbti}.pickle', 'rb'))\n",
    "        # model = Word2VecKeyedVectors.load(f'./network/model/sample2/{mbti}.model')\n",
    "        try:\n",
    "            g.remove_node(name)\n",
    "        except:\n",
    "            print(name,mbti)\n",
    "        gm.save_graph(g,f'./network/final_graph/{mbti}')"
   ]
  },
  {
   "cell_type": "code",
   "execution_count": 14,
   "metadata": {},
   "outputs": [
    {
     "data": {
      "text/plain": [
       "'ISTJ'"
      ]
     },
     "execution_count": 14,
     "metadata": {},
     "output_type": "execute_result"
    }
   ],
   "source": [
    "mbti"
   ]
  },
  {
   "cell_type": "code",
   "execution_count": 10,
   "metadata": {},
   "outputs": [],
   "source": [
    "g = pickle.load(open(f'./network/final_graph/sample2/INTJ.pickle', 'rb'))"
   ]
  },
  {
   "cell_type": "code",
   "execution_count": null,
   "metadata": {},
   "outputs": [],
   "source": [
    "g.remove_node"
   ]
  },
  {
   "cell_type": "code",
   "execution_count": 8,
   "metadata": {},
   "outputs": [],
   "source": [
    "name_list=['리얼, 데이트 앱 사기: 당신을 노린다,' '아는 형님', '샤펠 사단 - 어스퀘이크: 전설의 코미디',\n",
    "'브레이킹 배드 무비: 엘 카미노', '사이버 지옥: n번방을 무너뜨려라', '아바타 아앙의 전설', '압꾸정,블랙핑크: 세상을 밝혀라']\n",
    "# nfid_list=[81161927,81254340,80176842,81497886,81078819,81354041,70142405,81671553,81106901]"
   ]
  },
  {
   "cell_type": "code",
   "execution_count": null,
   "metadata": {},
   "outputs": [],
   "source": [
    "설국열차_80177458,마더_81292901\n",
    "jjab_seolguk_topic = ['레이턴', '봉준호', '결말', '감독', '혁명', '열차', '기대', '시즌', '꼬리', '윌포드', '멜라니',\n",
    "       '시스템', '시작', '넷플릭스', '작품', '멜러니', '영화', '드라마', '민수', '설국', '기차', '이야기',\n",
    "       '사건', '마지막', '반란', '아쉬움', '재밌', '공개', '한국', '주제', '괴물', '캐릭터', '모습',\n",
    "       '시리즈', '양갱', '남궁', '살인', '관객', '인류', '계급', '희망', '재미', '배우', '연출',\n",
    "       '메시지', '사람', '후반부', '내용', '북극곰', '송강호']\n",
    "jjab_mother_topic = ['엄마', '부모', '엔딩', '마지막', '오프닝', '어머니', '자식', '마더', '완벽', '감정', '시작',\n",
    "       '혜자', '잔인', '영화', '기억', '작품', '모정', '가족', '살인', '충격', '진실', '인생', '세상',\n",
    "       '괴물', '김혜자', '위대', '봉준호', '강렬', '시퀀스', '모성애', '아래', '한마디', '음악', '마음',\n",
    "       '관광버스', '지독', '모성', '모습', '스릴러', '테일', '흑백', '감독', '버스', '반전', '약자',\n",
    "       '소름', '머더', '배우', '이해', '사이']"
   ]
  },
  {
   "cell_type": "code",
   "execution_count": null,
   "metadata": {},
   "outputs": [],
   "source": [
    "gm = Graph.MakeGraph(mbti_data=1)\n",
    "g = pickle.load(open(f'./network/final_graph/sample2/{mbti}.pickle', 'rb'))\n",
    "model = Word2VecKeyedVectors.load(f'./network/model/sample2/{mbti}.model')"
   ]
  },
  {
   "cell_type": "code",
   "execution_count": null,
   "metadata": {},
   "outputs": [],
   "source": []
  }
 ],
 "metadata": {
  "kernelspec": {
   "display_name": "tsne",
   "language": "python",
   "name": "python3"
  },
  "language_info": {
   "codemirror_mode": {
    "name": "ipython",
    "version": 3
   },
   "file_extension": ".py",
   "mimetype": "text/x-python",
   "name": "python",
   "nbconvert_exporter": "python",
   "pygments_lexer": "ipython3",
   "version": "3.10.12"
  },
  "orig_nbformat": 4
 },
 "nbformat": 4,
 "nbformat_minor": 2
}
