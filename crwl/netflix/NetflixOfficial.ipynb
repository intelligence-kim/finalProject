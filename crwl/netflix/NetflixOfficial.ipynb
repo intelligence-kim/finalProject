{
 "cells": [
  {
   "cell_type": "code",
   "execution_count": 1,
   "metadata": {},
   "outputs": [],
   "source": [
    "import requests\n",
    "from bs4 import BeautifulSoup\n",
    "import time\n",
    "import pathlib\n",
    "import time\n",
    "import os\n",
    "import random\n",
    "\n",
    "from selenium import webdriver\n",
    "from selenium.webdriver.chrome.service import Service\n",
    "from selenium.webdriver.chrome.options import Options\n",
    "from webdriver_manager.chrome import ChromeDriverManager\n",
    "from selenium.webdriver.common.by import By\n",
    "from selenium.webdriver.common.keys import Keys\n",
    "\n",
    "\n",
    "import pandas as pd\n",
    "\n",
    "from tqdm import tqdm\n",
    "\n"
   ]
  },
  {
   "cell_type": "code",
   "execution_count": 2,
   "metadata": {},
   "outputs": [],
   "source": [
    "class NetflixOfficialCrwl:\n",
    "    def __init__(self):\n",
    "        self.chrome_options = Options()\n",
    "        self.chrome_options.add_experimental_option(\"detach\", True)\n",
    "        self.chrome_options.add_experimental_option(\"excludeSwitches\", [\"enable-logging\"])\n",
    "        self.service = Service(executable_path=ChromeDriverManager().install())\n",
    "\n",
    "        self.chrome_options.add_argument('--no-sandbox')\n",
    "        self.chrome_options.add_argument('--disable-dev-shm-usage')\n",
    "        self.chrome_options.add_argument(\"user-agent=Mozilla/5.0 (Windows NT 6.1; WOW64; Trident/7.0; rv:11.0) like Gecko\")\n",
    "        # self.chrome_options.add_argument(f'user-agent=Mozilla/5.0 (Macintosh; Intel Mac OS X 10_15_3) AppleWebKit/537.36 (KHTML, like Gecko) Chrome/80.0.3987.87 Safari/537.36')\n",
    "\n",
    "        self.path = pathlib.Path('../../data/netflix/netflix_title.csv')\n",
    "        self.netflix_csv = pd.read_csv(self.path)\n",
    "\n",
    "    def netflix_official_crwl(self,start_number=0):\n",
    "        n_title = self.netflix_csv['nfid'][start_number:]\n",
    "        driver = webdriver.Chrome(service=self.service,options=self.chrome_options)\n",
    "        driver.implicitly_wait(10)\n",
    "        result = pd.DataFrame()\n",
    "        not_find = []\n",
    "\n",
    "        for n_t in tqdm(n_title):\n",
    "            url = 'https://www.netflix.com/kr/title/'\n",
    "            url += str(n_t)\n",
    "            driver.get(url)\n",
    "            time.sleep(round(0.5+random.random(),2))\n",
    "            try:\n",
    "                title = driver.find_element(By.CSS_SELECTOR,'h1.title-title').text\n",
    "                title = {'제목':title}\n",
    "                try:\n",
    "                    synopsis = driver.find_element(By.CSS_SELECTOR,'div.title-info-synopsis').text\n",
    "                    synopsis = {'시놉시스':synopsis}\n",
    "                except:\n",
    "                    synopsis = {'시놉시스':0}\n",
    "\n",
    "                genres = driver.find_elements(By.CSS_SELECTOR,'span.more-details-item.item-genres')\n",
    "                genres_str= ''\n",
    "                for g in genres:\n",
    "                    genres_str+=g.text\n",
    "                genres_str = {'장르모음':genres_str}\n",
    "\n",
    "                people = driver.find_elements(By.CSS_SELECTOR,'span.more-details-item.item-cast')\n",
    "                people_str= ''\n",
    "                for p in people:\n",
    "                    people_str+=p.text+','\n",
    "                people_str = {'출연진':people_str}\n",
    "                try:\n",
    "                    feature = driver.find_elements(By.CSS_SELECTOR,'span.more-details-item.item-mood-tag')\n",
    "                    feature_str = ''\n",
    "                    for f in feature:\n",
    "                        feature_str+=f.text\n",
    "                    feature_str = {'특징':feature_str}     \n",
    "                except:\n",
    "                    feature_str = {'특징':0}     \n",
    "\n",
    "                metadata = driver.find_element(By.CSS_SELECTOR,'div.title-info-metadata-wrapper').text.split('|')\n",
    "                if len(metadata)==3: metadata.insert(2,'0')\n",
    "                    \n",
    "                \n",
    "                api_netflix = self.netflix_csv[self.netflix_csv['nfid']==n_t][['nfid','imdbid']].values[0]\n",
    "                n_i_id = {'nfid':api_netflix[0],'imdbid':api_netflix[1]}\n",
    "\n",
    "                df = pd.concat([pd.DataFrame([title]),pd.DataFrame([genres_str]),pd.DataFrame([synopsis]),pd.DataFrame([feature_str]),\n",
    "                                pd.DataFrame([people_str]),pd.DataFrame([metadata],columns=['개봉일','등급','상영시간','기본장르']),pd.DataFrame([n_i_id])]\n",
    "                                ,axis=1)\n",
    "                result = pd.concat([result,df])\n",
    "                # result.to_csv('test.csv',encoding='utf-8')\n",
    "            except:\n",
    "                # result.to_csv(f'n_{start_number}.csv',encoding='utf-8')\n",
    "                print(n_t)\n",
    "                not_find.append(n_t)\n",
    "                continue\n",
    "        result.to_csv('netflix_official_.csv',encoding='utf-8')\n",
    "        pd.DataFrame(not_find).to_csv('not.find.csv',encoding='utf-8')\n",
    "                \n",
    "    "
   ]
  },
  {
   "cell_type": "code",
   "execution_count": 3,
   "metadata": {},
   "outputs": [
    {
     "name": "stderr",
     "output_type": "stream",
     "text": [
      "  2%|▏         | 42/1833 [03:13<3:53:20,  7.82s/it]"
     ]
    },
    {
     "name": "stdout",
     "output_type": "stream",
     "text": [
      "70224562\n"
     ]
    },
    {
     "name": "stderr",
     "output_type": "stream",
     "text": [
      " 16%|█▋        | 299/1833 [25:27<3:21:16,  7.87s/it]"
     ]
    },
    {
     "name": "stdout",
     "output_type": "stream",
     "text": [
      "80211229\n"
     ]
    },
    {
     "name": "stderr",
     "output_type": "stream",
     "text": [
      " 19%|█▉        | 355/1833 [30:44<2:24:55,  5.88s/it]"
     ]
    },
    {
     "name": "stdout",
     "output_type": "stream",
     "text": [
      "60031268\n"
     ]
    },
    {
     "name": "stderr",
     "output_type": "stream",
     "text": [
      " 23%|██▎       | 426/1833 [37:00<2:21:14,  6.02s/it]"
     ]
    },
    {
     "name": "stdout",
     "output_type": "stream",
     "text": [
      "60031232\n"
     ]
    },
    {
     "name": "stderr",
     "output_type": "stream",
     "text": [
      " 31%|███▏      | 574/1833 [48:49<2:41:40,  7.70s/it]"
     ]
    },
    {
     "name": "stdout",
     "output_type": "stream",
     "text": [
      "1181488\n"
     ]
    },
    {
     "name": "stderr",
     "output_type": "stream",
     "text": [
      " 31%|███▏      | 575/1833 [49:02<3:14:04,  9.26s/it]"
     ]
    },
    {
     "name": "stdout",
     "output_type": "stream",
     "text": [
      "60021783\n"
     ]
    },
    {
     "name": "stderr",
     "output_type": "stream",
     "text": [
      " 32%|███▏      | 582/1833 [49:44<2:24:44,  6.94s/it]"
     ]
    },
    {
     "name": "stdout",
     "output_type": "stream",
     "text": [
      "80236314\n"
     ]
    },
    {
     "name": "stderr",
     "output_type": "stream",
     "text": [
      " 36%|███▌      | 651/1833 [55:13<2:01:50,  6.19s/it]"
     ]
    },
    {
     "name": "stdout",
     "output_type": "stream",
     "text": [
      "60033309\n"
     ]
    },
    {
     "name": "stderr",
     "output_type": "stream",
     "text": [
      " 36%|███▌      | 652/1833 [55:25<2:35:03,  7.88s/it]"
     ]
    },
    {
     "name": "stdout",
     "output_type": "stream",
     "text": [
      "70142543\n"
     ]
    },
    {
     "name": "stderr",
     "output_type": "stream",
     "text": [
      " 45%|████▌     | 834/1833 [1:11:11<2:01:39,  7.31s/it]"
     ]
    },
    {
     "name": "stdout",
     "output_type": "stream",
     "text": [
      "70173048\n"
     ]
    },
    {
     "name": "stderr",
     "output_type": "stream",
     "text": [
      " 46%|████▌     | 835/1833 [1:11:23<2:23:41,  8.64s/it]"
     ]
    },
    {
     "name": "stdout",
     "output_type": "stream",
     "text": [
      "80038359\n"
     ]
    },
    {
     "name": "stderr",
     "output_type": "stream",
     "text": [
      " 46%|████▌     | 845/1833 [1:12:19<2:16:57,  8.32s/it]"
     ]
    },
    {
     "name": "stdout",
     "output_type": "stream",
     "text": [
      "17236680\n"
     ]
    },
    {
     "name": "stderr",
     "output_type": "stream",
     "text": [
      " 52%|█████▏    | 952/1833 [1:21:50<1:57:07,  7.98s/it]"
     ]
    },
    {
     "name": "stdout",
     "output_type": "stream",
     "text": [
      "70019004\n"
     ]
    },
    {
     "name": "stderr",
     "output_type": "stream",
     "text": [
      " 52%|█████▏    | 953/1833 [1:22:02<2:13:01,  9.07s/it]"
     ]
    },
    {
     "name": "stdout",
     "output_type": "stream",
     "text": [
      "70243453\n"
     ]
    },
    {
     "name": "stderr",
     "output_type": "stream",
     "text": [
      " 52%|█████▏    | 954/1833 [1:22:14<2:27:26, 10.06s/it]"
     ]
    },
    {
     "name": "stdout",
     "output_type": "stream",
     "text": [
      "80013274\n"
     ]
    },
    {
     "name": "stderr",
     "output_type": "stream",
     "text": [
      " 56%|█████▌    | 1023/1833 [1:28:12<1:56:58,  8.66s/it]"
     ]
    },
    {
     "name": "stdout",
     "output_type": "stream",
     "text": [
      "70123913\n"
     ]
    },
    {
     "name": "stderr",
     "output_type": "stream",
     "text": [
      " 58%|█████▊    | 1063/1833 [1:31:25<1:21:12,  6.33s/it]"
     ]
    },
    {
     "name": "stdout",
     "output_type": "stream",
     "text": [
      "70039530\n"
     ]
    },
    {
     "name": "stderr",
     "output_type": "stream",
     "text": [
      " 64%|██████▎   | 1168/1833 [1:42:18<2:03:27, 11.14s/it]"
     ]
    },
    {
     "name": "stdout",
     "output_type": "stream",
     "text": [
      "80121192\n"
     ]
    },
    {
     "name": "stderr",
     "output_type": "stream",
     "text": [
      " 65%|██████▍   | 1190/1833 [1:44:01<1:10:41,  6.60s/it]"
     ]
    },
    {
     "name": "stdout",
     "output_type": "stream",
     "text": [
      "765912\n"
     ]
    },
    {
     "name": "stderr",
     "output_type": "stream",
     "text": [
      " 69%|██████▉   | 1267/1833 [1:50:41<1:12:09,  7.65s/it]"
     ]
    },
    {
     "name": "stdout",
     "output_type": "stream",
     "text": [
      "20559714\n"
     ]
    },
    {
     "name": "stderr",
     "output_type": "stream",
     "text": [
      " 75%|███████▌  | 1375/1833 [1:58:45<55:08,  7.22s/it]  "
     ]
    },
    {
     "name": "stdout",
     "output_type": "stream",
     "text": [
      "70003884\n"
     ]
    },
    {
     "name": "stderr",
     "output_type": "stream",
     "text": [
      " 75%|███████▌  | 1376/1833 [1:58:57<1:05:22,  8.58s/it]"
     ]
    },
    {
     "name": "stdout",
     "output_type": "stream",
     "text": [
      "70058024\n"
     ]
    },
    {
     "name": "stderr",
     "output_type": "stream",
     "text": [
      " 76%|███████▌  | 1390/1833 [2:00:02<49:39,  6.73s/it]  "
     ]
    },
    {
     "name": "stdout",
     "output_type": "stream",
     "text": [
      "70041961\n"
     ]
    },
    {
     "name": "stderr",
     "output_type": "stream",
     "text": [
      " 81%|████████  | 1488/1833 [2:08:51<1:09:13, 12.04s/it]"
     ]
    },
    {
     "name": "stdout",
     "output_type": "stream",
     "text": [
      "60033311\n"
     ]
    },
    {
     "name": "stderr",
     "output_type": "stream",
     "text": [
      " 85%|████████▍ | 1550/1833 [2:13:53<27:50,  5.90s/it]  "
     ]
    },
    {
     "name": "stdout",
     "output_type": "stream",
     "text": [
      "70185071\n"
     ]
    },
    {
     "name": "stderr",
     "output_type": "stream",
     "text": [
      " 99%|█████████▉| 1812/1833 [2:33:17<02:05,  5.99s/it]"
     ]
    },
    {
     "name": "stdout",
     "output_type": "stream",
     "text": [
      "80231259\n"
     ]
    },
    {
     "name": "stderr",
     "output_type": "stream",
     "text": [
      " 99%|█████████▉| 1813/1833 [2:33:29<02:33,  7.67s/it]"
     ]
    },
    {
     "name": "stdout",
     "output_type": "stream",
     "text": [
      "70077556\n"
     ]
    },
    {
     "name": "stderr",
     "output_type": "stream",
     "text": [
      "100%|██████████| 1833/1833 [2:34:22<00:00,  5.05s/it]\n"
     ]
    }
   ],
   "source": [
    "crwl = NetflixOfficialCrwl()\n",
    "crwl.netflix_official_crwl()"
   ]
  },
  {
   "cell_type": "code",
   "execution_count": 6,
   "metadata": {},
   "outputs": [],
   "source": [
    "test = pd.read_csv('netflix_official_.csv')"
   ]
  },
  {
   "cell_type": "code",
   "execution_count": 9,
   "metadata": {},
   "outputs": [
    {
     "data": {
      "text/html": [
       "<div>\n",
       "<style scoped>\n",
       "    .dataframe tbody tr th:only-of-type {\n",
       "        vertical-align: middle;\n",
       "    }\n",
       "\n",
       "    .dataframe tbody tr th {\n",
       "        vertical-align: top;\n",
       "    }\n",
       "\n",
       "    .dataframe thead th {\n",
       "        text-align: right;\n",
       "    }\n",
       "</style>\n",
       "<table border=\"1\" class=\"dataframe\">\n",
       "  <thead>\n",
       "    <tr style=\"text-align: right;\">\n",
       "      <th></th>\n",
       "      <th>제목</th>\n",
       "      <th>장르모음</th>\n",
       "      <th>시놉시스</th>\n",
       "      <th>특징</th>\n",
       "      <th>출연진</th>\n",
       "      <th>개봉일</th>\n",
       "      <th>등급</th>\n",
       "      <th>상영시간</th>\n",
       "      <th>기본장르</th>\n",
       "      <th>nfid</th>\n",
       "      <th>imdbid</th>\n",
       "    </tr>\n",
       "  </thead>\n",
       "  <tbody>\n",
       "    <tr>\n",
       "      <th>0</th>\n",
       "      <td>우주 히어로 키드</td>\n",
       "      <td>키즈 시리즈,가족이 함께 보는 시리즈,코미디 시리즈,만화 시리즈</td>\n",
       "      <td>지구를 지키는 영웅이 되고 싶어요. 이 꿈이 정말로 이뤄질 줄이야! 한 소년이 우주...</td>\n",
       "      <td>유쾌 발랄,흥미진진</td>\n",
       "      <td>잭 피셔,톰 케니,어맨다 C. 밀러,킴 야브로,키스 퍼거슨,그레이 그리핀,릴리 로즈...</td>\n",
       "      <td>2021</td>\n",
       "      <td>\\n전체관람가</td>\n",
       "      <td>시즌 3개</td>\n",
       "      <td>키즈</td>\n",
       "      <td>80244340</td>\n",
       "      <td>tt9248538</td>\n",
       "    </tr>\n",
       "    <tr>\n",
       "      <th>1</th>\n",
       "      <td>청소년 v 정부: 기후 정의를 외치다</td>\n",
       "      <td>다큐멘터리 영화,자연 &amp; 생태 다큐멘터리,과학 &amp; 자연 다큐멘터리,사회 &amp; 문화 다...</td>\n",
       "      <td>기후 위기를 초래한 미국 정부의 행태를 두고 볼 수 없었던 21명의 청소년 원고단....</td>\n",
       "      <td>도발적인,감명을 주는</td>\n",
       "      <td>NaN</td>\n",
       "      <td>2020</td>\n",
       "      <td>\\n15+</td>\n",
       "      <td>1시간 49분</td>\n",
       "      <td>다큐멘터리</td>\n",
       "      <td>81586492</td>\n",
       "      <td>tt13192640</td>\n",
       "    </tr>\n",
       "    <tr>\n",
       "      <th>2</th>\n",
       "      <td>하프 배드: 선 &amp; 데빌</td>\n",
       "      <td>로맨틱한 드라마,드라마,영국 작품,청소년 시리즈,액션 &amp; 어드벤처 시리즈,판타지 시리즈</td>\n",
       "      <td>전쟁 중인 두 종족 사이에 운명적으로 끼게 된 소년. 끔찍한 학살을 일으킨 악명 높...</td>\n",
       "      <td>폭력적인,흥미진진,로맨틱</td>\n",
       "      <td>제이 라이커고,나디아 파크스,에밀리앵 베크만스,폴 레디,이저벨 제스퍼 존스,캐런 코...</td>\n",
       "      <td>2022</td>\n",
       "      <td>\\n청불</td>\n",
       "      <td>시즌 1개</td>\n",
       "      <td>판타지</td>\n",
       "      <td>81258637</td>\n",
       "      <td>tt16380676</td>\n",
       "    </tr>\n",
       "    <tr>\n",
       "      <th>3</th>\n",
       "      <td>Breaking Bad</td>\n",
       "      <td>드라마,범죄 시리즈,미국 TV 프로그램,스릴러 시리즈</td>\n",
       "      <td>말기 암 진단이 그를 범죄의 세계로 밀어 넣었다. 아니, 그런 줄 알았다. 제자와 ...</td>\n",
       "      <td>폭력적인,어두운,긴장감 넘치는</td>\n",
       "      <td>브라이언 크랜스턴,에런 폴,안나 건,딘 노리스,벳시 브랜트,RJ 미티,밥 오든커크,...</td>\n",
       "      <td>2008</td>\n",
       "      <td>\\n19+</td>\n",
       "      <td>시즌 5개</td>\n",
       "      <td>드라마 장르</td>\n",
       "      <td>70143836</td>\n",
       "      <td>tt0903747</td>\n",
       "    </tr>\n",
       "    <tr>\n",
       "      <th>4</th>\n",
       "      <td>우리의 지구</td>\n",
       "      <td>가족이 함께 보는 시리즈,영국 작품,자연 &amp; 생태 다큐멘터리,과학 &amp; 자연 TV 프...</td>\n",
       "      <td>압도적인 스케일, 경이로운 영상미 그리고 전 인류를 향한 메시지. 우리 지구에 관한...</td>\n",
       "      <td>감명을 주는</td>\n",
       "      <td>데이비드 애튼버러,</td>\n",
       "      <td>2019</td>\n",
       "      <td>\\n전체관람가</td>\n",
       "      <td>시즌 2개</td>\n",
       "      <td>다큐멘터리</td>\n",
       "      <td>80049832</td>\n",
       "      <td>tt9253866</td>\n",
       "    </tr>\n",
       "    <tr>\n",
       "      <th>...</th>\n",
       "      <td>...</td>\n",
       "      <td>...</td>\n",
       "      <td>...</td>\n",
       "      <td>...</td>\n",
       "      <td>...</td>\n",
       "      <td>...</td>\n",
       "      <td>...</td>\n",
       "      <td>...</td>\n",
       "      <td>...</td>\n",
       "      <td>...</td>\n",
       "      <td>...</td>\n",
       "    </tr>\n",
       "    <tr>\n",
       "      <th>1801</th>\n",
       "      <td>해피 데스데이</td>\n",
       "      <td>코미디 영화,호러 영화,미스터리 영화,미국 영화</td>\n",
       "      <td>숙취로 시작해 자신의 죽음으로 끝난 한 여성의 생일. 그런데 다음 날 그녀가 깨어나...</td>\n",
       "      <td>무서운,긴장감 넘치는</td>\n",
       "      <td>제시카 로스,이즈리얼 브루사드,루비 모딘,찰스 에이킨,로라 클리프턴,제이슨 베일,롭...</td>\n",
       "      <td>2017</td>\n",
       "      <td>\\n15+</td>\n",
       "      <td>1시간 36분</td>\n",
       "      <td>호러</td>\n",
       "      <td>80188939</td>\n",
       "      <td>tt5308322</td>\n",
       "    </tr>\n",
       "    <tr>\n",
       "      <th>1802</th>\n",
       "      <td>임금님의 사건수첩</td>\n",
       "      <td>코미디 영화,스릴러 영화</td>\n",
       "      <td>흉흉한 소문이 돌고 괴이한 사건이 연이어 발생하는 조선. 이에 임금님이 직접 비밀 ...</td>\n",
       "      <td>긴장감 넘치는</td>\n",
       "      <td>이선균,안재홍,김희원,주진모,장영남,경수진,정해인,김홍파,김응수,</td>\n",
       "      <td>2017</td>\n",
       "      <td>\\n12+</td>\n",
       "      <td>1시간 54분</td>\n",
       "      <td>코미디</td>\n",
       "      <td>80188833</td>\n",
       "      <td>tt6817202</td>\n",
       "    </tr>\n",
       "    <tr>\n",
       "      <th>1803</th>\n",
       "      <td>오늘은 회사 쉬겠습니다</td>\n",
       "      <td>일본 작품,코미디 시리즈,로맨틱 코미디 시리즈,일본 만화 원작 시리즈</td>\n",
       "      <td>서른 살 모태 솔로 하나에. 스물한 살의 연하 남친이 생겨 하늘을 날듯 행복하다. ...</td>\n",
       "      <td>로맨틱</td>\n",
       "      <td>아야세 하루카,후쿠시 소타,타마키 히로시,나카 리이사,타구치 준노스케,지바 유다이,...</td>\n",
       "      <td>2014</td>\n",
       "      <td>\\n15+</td>\n",
       "      <td>시즌 1개</td>\n",
       "      <td>로맨스</td>\n",
       "      <td>81410173</td>\n",
       "      <td>tt0120915</td>\n",
       "    </tr>\n",
       "    <tr>\n",
       "      <th>1804</th>\n",
       "      <td>알카티브</td>\n",
       "      <td>사우디아라비아 작품,중동 영화,드라마 영화,미스터리 영화,사회 이슈 드라마 장르 영화</td>\n",
       "      <td>아름다운 인턴에게 마음을 온통 빼앗겨버린 회사원. 그녀를 쫓아 사막의 리조트로 향한...</td>\n",
       "      <td>긴장감 넘치는</td>\n",
       "      <td>후삼 알하르티,림 알하비브,누르 알카드라,라하프 이브라힘,아심 알아와드,나디아 알모...</td>\n",
       "      <td>2023</td>\n",
       "      <td>\\n15+</td>\n",
       "      <td>1시간 21분</td>\n",
       "      <td>드라마 장르</td>\n",
       "      <td>81354937</td>\n",
       "      <td>tt0119632</td>\n",
       "    </tr>\n",
       "    <tr>\n",
       "      <th>1805</th>\n",
       "      <td>아마겟돈 타임</td>\n",
       "      <td>드라마 영화,인디 영화,사회 이슈 드라마 장르 영화,미국 영화</td>\n",
       "      <td>1980년 뉴욕 도심을 배경으로 펼쳐지는 성장 영화. 유대인 소년과 흑인 친구의 우...</td>\n",
       "      <td>잔잔한,거부할 수 없는 이끌림</td>\n",
       "      <td>앤 해서웨이,제러미 스트롱,뱅크스 레페타,제일린 웹,안소니 홉킨스,토바 펠드슈,존 ...</td>\n",
       "      <td>2022</td>\n",
       "      <td>\\n12+</td>\n",
       "      <td>1시간 54분</td>\n",
       "      <td>드라마 장르</td>\n",
       "      <td>81608219</td>\n",
       "      <td>tt10343028</td>\n",
       "    </tr>\n",
       "  </tbody>\n",
       "</table>\n",
       "<p>1806 rows × 11 columns</p>\n",
       "</div>"
      ],
      "text/plain": [
       "                        제목                                               장르모음  \\\n",
       "0                우주 히어로 키드                키즈 시리즈,가족이 함께 보는 시리즈,코미디 시리즈,만화 시리즈   \n",
       "1     청소년 v 정부: 기후 정의를 외치다  다큐멘터리 영화,자연 & 생태 다큐멘터리,과학 & 자연 다큐멘터리,사회 & 문화 다...   \n",
       "2            하프 배드: 선 & 데빌   로맨틱한 드라마,드라마,영국 작품,청소년 시리즈,액션 & 어드벤처 시리즈,판타지 시리즈   \n",
       "3             Breaking Bad                      드라마,범죄 시리즈,미국 TV 프로그램,스릴러 시리즈   \n",
       "4                   우리의 지구  가족이 함께 보는 시리즈,영국 작품,자연 & 생태 다큐멘터리,과학 & 자연 TV 프...   \n",
       "...                    ...                                                ...   \n",
       "1801               해피 데스데이                         코미디 영화,호러 영화,미스터리 영화,미국 영화   \n",
       "1802             임금님의 사건수첩                                      코미디 영화,스릴러 영화   \n",
       "1803          오늘은 회사 쉬겠습니다             일본 작품,코미디 시리즈,로맨틱 코미디 시리즈,일본 만화 원작 시리즈   \n",
       "1804                  알카티브    사우디아라비아 작품,중동 영화,드라마 영화,미스터리 영화,사회 이슈 드라마 장르 영화   \n",
       "1805               아마겟돈 타임                 드라마 영화,인디 영화,사회 이슈 드라마 장르 영화,미국 영화   \n",
       "\n",
       "                                                   시놉시스                특징  \\\n",
       "0     지구를 지키는 영웅이 되고 싶어요. 이 꿈이 정말로 이뤄질 줄이야! 한 소년이 우주...        유쾌 발랄,흥미진진   \n",
       "1     기후 위기를 초래한 미국 정부의 행태를 두고 볼 수 없었던 21명의 청소년 원고단....       도발적인,감명을 주는   \n",
       "2     전쟁 중인 두 종족 사이에 운명적으로 끼게 된 소년. 끔찍한 학살을 일으킨 악명 높...     폭력적인,흥미진진,로맨틱   \n",
       "3     말기 암 진단이 그를 범죄의 세계로 밀어 넣었다. 아니, 그런 줄 알았다. 제자와 ...  폭력적인,어두운,긴장감 넘치는   \n",
       "4     압도적인 스케일, 경이로운 영상미 그리고 전 인류를 향한 메시지. 우리 지구에 관한...            감명을 주는   \n",
       "...                                                 ...               ...   \n",
       "1801  숙취로 시작해 자신의 죽음으로 끝난 한 여성의 생일. 그런데 다음 날 그녀가 깨어나...       무서운,긴장감 넘치는   \n",
       "1802  흉흉한 소문이 돌고 괴이한 사건이 연이어 발생하는 조선. 이에 임금님이 직접 비밀 ...           긴장감 넘치는   \n",
       "1803  서른 살 모태 솔로 하나에. 스물한 살의 연하 남친이 생겨 하늘을 날듯 행복하다. ...               로맨틱   \n",
       "1804  아름다운 인턴에게 마음을 온통 빼앗겨버린 회사원. 그녀를 쫓아 사막의 리조트로 향한...           긴장감 넘치는   \n",
       "1805  1980년 뉴욕 도심을 배경으로 펼쳐지는 성장 영화. 유대인 소년과 흑인 친구의 우...  잔잔한,거부할 수 없는 이끌림   \n",
       "\n",
       "                                                    출연진   개봉일        등급  \\\n",
       "0     잭 피셔,톰 케니,어맨다 C. 밀러,킴 야브로,키스 퍼거슨,그레이 그리핀,릴리 로즈...  2021  \\n전체관람가    \n",
       "1                                                   NaN  2020    \\n15+    \n",
       "2     제이 라이커고,나디아 파크스,에밀리앵 베크만스,폴 레디,이저벨 제스퍼 존스,캐런 코...  2022     \\n청불    \n",
       "3     브라이언 크랜스턴,에런 폴,안나 건,딘 노리스,벳시 브랜트,RJ 미티,밥 오든커크,...  2008    \\n19+    \n",
       "4                                            데이비드 애튼버러,  2019  \\n전체관람가    \n",
       "...                                                 ...   ...       ...   \n",
       "1801  제시카 로스,이즈리얼 브루사드,루비 모딘,찰스 에이킨,로라 클리프턴,제이슨 베일,롭...  2017    \\n15+    \n",
       "1802               이선균,안재홍,김희원,주진모,장영남,경수진,정해인,김홍파,김응수,  2017    \\n12+    \n",
       "1803  아야세 하루카,후쿠시 소타,타마키 히로시,나카 리이사,타구치 준노스케,지바 유다이,...  2014    \\n15+    \n",
       "1804  후삼 알하르티,림 알하비브,누르 알카드라,라하프 이브라힘,아심 알아와드,나디아 알모...  2023    \\n15+    \n",
       "1805  앤 해서웨이,제러미 스트롱,뱅크스 레페타,제일린 웹,안소니 홉킨스,토바 펠드슈,존 ...  2022    \\n12+    \n",
       "\n",
       "           상영시간     기본장르      nfid      imdbid  \n",
       "0        시즌 3개        키즈  80244340   tt9248538  \n",
       "1      1시간 49분     다큐멘터리  81586492  tt13192640  \n",
       "2        시즌 1개       판타지  81258637  tt16380676  \n",
       "3        시즌 5개    드라마 장르  70143836   tt0903747  \n",
       "4        시즌 2개     다큐멘터리  80049832   tt9253866  \n",
       "...         ...      ...       ...         ...  \n",
       "1801   1시간 36분        호러  80188939   tt5308322  \n",
       "1802   1시간 54분       코미디  80188833   tt6817202  \n",
       "1803     시즌 1개       로맨스  81410173   tt0120915  \n",
       "1804   1시간 21분    드라마 장르  81354937   tt0119632  \n",
       "1805   1시간 54분    드라마 장르  81608219  tt10343028  \n",
       "\n",
       "[1806 rows x 11 columns]"
      ]
     },
     "execution_count": 9,
     "metadata": {},
     "output_type": "execute_result"
    }
   ],
   "source": [
    "test"
   ]
  },
  {
   "cell_type": "code",
   "execution_count": 5,
   "metadata": {},
   "outputs": [],
   "source": [
    "t = pd.read_csv('test.csv')"
   ]
  },
  {
   "cell_type": "code",
   "execution_count": 6,
   "metadata": {},
   "outputs": [
    {
     "data": {
      "text/html": [
       "<div>\n",
       "<style scoped>\n",
       "    .dataframe tbody tr th:only-of-type {\n",
       "        vertical-align: middle;\n",
       "    }\n",
       "\n",
       "    .dataframe tbody tr th {\n",
       "        vertical-align: top;\n",
       "    }\n",
       "\n",
       "    .dataframe thead th {\n",
       "        text-align: right;\n",
       "    }\n",
       "</style>\n",
       "<table border=\"1\" class=\"dataframe\">\n",
       "  <thead>\n",
       "    <tr style=\"text-align: right;\">\n",
       "      <th></th>\n",
       "      <th>Unnamed: 0</th>\n",
       "      <th>제목</th>\n",
       "      <th>장르모음</th>\n",
       "      <th>시놉시스</th>\n",
       "      <th>특징</th>\n",
       "      <th>출연진</th>\n",
       "      <th>개봉일</th>\n",
       "      <th>등급</th>\n",
       "      <th>상영시간</th>\n",
       "      <th>기본장르</th>\n",
       "    </tr>\n",
       "  </thead>\n",
       "  <tbody>\n",
       "    <tr>\n",
       "      <th>0</th>\n",
       "      <td>0</td>\n",
       "      <td>우주 히어로 키드</td>\n",
       "      <td>키즈 시리즈,가족이 함께 보는 시리즈,코미디 시리즈,만화 시리즈</td>\n",
       "      <td>지구를 지키는 영웅이 되고 싶어요. 이 꿈이 정말로 이뤄질 줄이야! 한 소년이 우주...</td>\n",
       "      <td>유쾌 발랄,,흥미진진,</td>\n",
       "      <td>잭 피셔,톰 케니,어맨다 C. 밀러,킴 야브로,키스 퍼거슨,그레이 그리핀,릴리 로즈...</td>\n",
       "      <td>2021</td>\n",
       "      <td>\\n전체관람가</td>\n",
       "      <td>시즌 3개</td>\n",
       "      <td>키즈</td>\n",
       "    </tr>\n",
       "    <tr>\n",
       "      <th>1</th>\n",
       "      <td>0</td>\n",
       "      <td>청소년 v 정부: 기후 정의를 외치다</td>\n",
       "      <td>다큐멘터리 영화,자연 &amp; 생태 다큐멘터리,과학 &amp; 자연 다큐멘터리,사회 &amp; 문화 다...</td>\n",
       "      <td>기후 위기를 초래한 미국 정부의 행태를 두고 볼 수 없었던 21명의 청소년 원고단....</td>\n",
       "      <td>도발적인,,감명을 주는,</td>\n",
       "      <td>NaN</td>\n",
       "      <td>2020</td>\n",
       "      <td>\\n15+</td>\n",
       "      <td>1시간 49분</td>\n",
       "      <td>다큐멘터리</td>\n",
       "    </tr>\n",
       "    <tr>\n",
       "      <th>2</th>\n",
       "      <td>0</td>\n",
       "      <td>하프 배드: 선 &amp; 데빌</td>\n",
       "      <td>로맨틱한 드라마,드라마,영국 작품,청소년 시리즈,액션 &amp; 어드벤처 시리즈,판타지 시리즈</td>\n",
       "      <td>전쟁 중인 두 종족 사이에 운명적으로 끼게 된 소년. 끔찍한 학살을 일으킨 악명 높...</td>\n",
       "      <td>폭력적인,,흥미진진,,로맨틱,</td>\n",
       "      <td>제이 라이커고,나디아 파크스,에밀리앵 베크만스,폴 레디,이저벨 제스퍼 존스,캐런 코...</td>\n",
       "      <td>2022</td>\n",
       "      <td>\\n청불</td>\n",
       "      <td>시즌 1개</td>\n",
       "      <td>판타지</td>\n",
       "    </tr>\n",
       "    <tr>\n",
       "      <th>3</th>\n",
       "      <td>0</td>\n",
       "      <td>Breaking Bad</td>\n",
       "      <td>드라마,범죄 시리즈,미국 TV 프로그램,스릴러 시리즈</td>\n",
       "      <td>말기 암 진단이 그를 범죄의 세계로 밀어 넣었다. 아니, 그런 줄 알았다. 제자와 ...</td>\n",
       "      <td>폭력적인,,어두운,,긴장감 넘치는,</td>\n",
       "      <td>브라이언 크랜스턴,에런 폴,안나 건,딘 노리스,벳시 브랜트,RJ 미티,밥 오든커크,...</td>\n",
       "      <td>2008</td>\n",
       "      <td>\\n19+</td>\n",
       "      <td>시즌 5개</td>\n",
       "      <td>드라마 장르</td>\n",
       "    </tr>\n",
       "    <tr>\n",
       "      <th>4</th>\n",
       "      <td>0</td>\n",
       "      <td>우리의 지구</td>\n",
       "      <td>가족이 함께 보는 시리즈,영국 작품,자연 &amp; 생태 다큐멘터리,과학 &amp; 자연 TV 프...</td>\n",
       "      <td>압도적인 스케일, 경이로운 영상미 그리고 전 인류를 향한 메시지. 우리 지구에 관한...</td>\n",
       "      <td>감명을 주는,</td>\n",
       "      <td>데이비드 애튼버러,</td>\n",
       "      <td>2019</td>\n",
       "      <td>\\n전체관람가</td>\n",
       "      <td>시즌 2개</td>\n",
       "      <td>다큐멘터리</td>\n",
       "    </tr>\n",
       "    <tr>\n",
       "      <th>5</th>\n",
       "      <td>0</td>\n",
       "      <td>1899</td>\n",
       "      <td>드라마,독일 작품,액션 &amp; 어드벤처 시리즈,스릴러 시리즈</td>\n",
       "      <td>1899년, 이민자들을 싣고 뉴욕으로 향하던 배가 미스터리한 사건을 마주한다. 급격...</td>\n",
       "      <td>발상의 전환,,불길한,</td>\n",
       "      <td>에밀리 비첨,어나이린 바나드,안드레아스 피치만,미겔 베르나르데아우,조제 피멘탕,이저...</td>\n",
       "      <td>2022</td>\n",
       "      <td>\\n청불</td>\n",
       "      <td>시즌 1개</td>\n",
       "      <td>스릴러</td>\n",
       "    </tr>\n",
       "  </tbody>\n",
       "</table>\n",
       "</div>"
      ],
      "text/plain": [
       "   Unnamed: 0                    제목  \\\n",
       "0           0             우주 히어로 키드   \n",
       "1           0  청소년 v 정부: 기후 정의를 외치다   \n",
       "2           0         하프 배드: 선 & 데빌   \n",
       "3           0          Breaking Bad   \n",
       "4           0                우리의 지구   \n",
       "5           0                  1899   \n",
       "\n",
       "                                                장르모음  \\\n",
       "0                키즈 시리즈,가족이 함께 보는 시리즈,코미디 시리즈,만화 시리즈   \n",
       "1  다큐멘터리 영화,자연 & 생태 다큐멘터리,과학 & 자연 다큐멘터리,사회 & 문화 다...   \n",
       "2   로맨틱한 드라마,드라마,영국 작품,청소년 시리즈,액션 & 어드벤처 시리즈,판타지 시리즈   \n",
       "3                      드라마,범죄 시리즈,미국 TV 프로그램,스릴러 시리즈   \n",
       "4  가족이 함께 보는 시리즈,영국 작품,자연 & 생태 다큐멘터리,과학 & 자연 TV 프...   \n",
       "5                    드라마,독일 작품,액션 & 어드벤처 시리즈,스릴러 시리즈   \n",
       "\n",
       "                                                시놉시스                   특징  \\\n",
       "0  지구를 지키는 영웅이 되고 싶어요. 이 꿈이 정말로 이뤄질 줄이야! 한 소년이 우주...         유쾌 발랄,,흥미진진,   \n",
       "1  기후 위기를 초래한 미국 정부의 행태를 두고 볼 수 없었던 21명의 청소년 원고단....        도발적인,,감명을 주는,   \n",
       "2  전쟁 중인 두 종족 사이에 운명적으로 끼게 된 소년. 끔찍한 학살을 일으킨 악명 높...     폭력적인,,흥미진진,,로맨틱,   \n",
       "3  말기 암 진단이 그를 범죄의 세계로 밀어 넣었다. 아니, 그런 줄 알았다. 제자와 ...  폭력적인,,어두운,,긴장감 넘치는,   \n",
       "4  압도적인 스케일, 경이로운 영상미 그리고 전 인류를 향한 메시지. 우리 지구에 관한...              감명을 주는,   \n",
       "5  1899년, 이민자들을 싣고 뉴욕으로 향하던 배가 미스터리한 사건을 마주한다. 급격...         발상의 전환,,불길한,   \n",
       "\n",
       "                                                 출연진   개봉일        등급  \\\n",
       "0  잭 피셔,톰 케니,어맨다 C. 밀러,킴 야브로,키스 퍼거슨,그레이 그리핀,릴리 로즈...  2021  \\n전체관람가    \n",
       "1                                                NaN  2020    \\n15+    \n",
       "2  제이 라이커고,나디아 파크스,에밀리앵 베크만스,폴 레디,이저벨 제스퍼 존스,캐런 코...  2022     \\n청불    \n",
       "3  브라이언 크랜스턴,에런 폴,안나 건,딘 노리스,벳시 브랜트,RJ 미티,밥 오든커크,...  2008    \\n19+    \n",
       "4                                         데이비드 애튼버러,  2019  \\n전체관람가    \n",
       "5  에밀리 비첨,어나이린 바나드,안드레아스 피치만,미겔 베르나르데아우,조제 피멘탕,이저...  2022     \\n청불    \n",
       "\n",
       "        상영시간     기본장르  \n",
       "0     시즌 3개        키즈  \n",
       "1   1시간 49분     다큐멘터리  \n",
       "2     시즌 1개       판타지  \n",
       "3     시즌 5개    드라마 장르  \n",
       "4     시즌 2개     다큐멘터리  \n",
       "5     시즌 1개       스릴러  "
      ]
     },
     "execution_count": 6,
     "metadata": {},
     "output_type": "execute_result"
    }
   ],
   "source": [
    "t"
   ]
  },
  {
   "cell_type": "code",
   "execution_count": 256,
   "metadata": {},
   "outputs": [
    {
     "data": {
      "text/plain": [
       "'잭 피셔 톰 케니 어맨다 C. 밀러 킴 야브로 키스 퍼거슨 그레이 그리핀 릴리 로즈 실버 프레드 타타시오르'"
      ]
     },
     "execution_count": 256,
     "metadata": {},
     "output_type": "execute_result"
    }
   ],
   "source": [
    "test['출연진'][0]"
   ]
  },
  {
   "cell_type": "code",
   "execution_count": 23,
   "metadata": {},
   "outputs": [],
   "source": [
    "chrome_options = Options()\n",
    "chrome_options.add_experimental_option(\"detach\", True)\n",
    "chrome_options.add_experimental_option(\"excludeSwitches\", [\"enable-logging\"])\n",
    "service = Service(executable_path=ChromeDriverManager().install())\n",
    "\n",
    "chrome_options.add_argument('--no-sandbox')\n",
    "chrome_options.add_argument('--disable-dev-shm-usage')\n",
    "chrome_options.add_argument(\"user-agent=Mozilla/5.0 (Windows NT 6.1; WOW64; Trident/7.0; rv:11.0) like Gecko\")"
   ]
  },
  {
   "cell_type": "code",
   "execution_count": 24,
   "metadata": {},
   "outputs": [],
   "source": [
    "browser = webdriver.Chrome(service=service,options=chrome_options)\n",
    "\n",
    "browser.implicitly_wait(10)\n",
    "browser.maximize_window()\n",
    "url = f\"https://www.netflix.com/kr/title/81586492\"\n",
    "browser.get(url)\n",
    "\n",
    "    \n"
   ]
  },
  {
   "cell_type": "code",
   "execution_count": 28,
   "metadata": {},
   "outputs": [],
   "source": [
    "t=browser.find_elements(By.CSS_SELECTOR,'span.more-details-item.item-mood-tag')"
   ]
  },
  {
   "cell_type": "code",
   "execution_count": 29,
   "metadata": {},
   "outputs": [
    {
     "name": "stdout",
     "output_type": "stream",
     "text": [
      "도발적인,\n",
      "감명을 주는\n"
     ]
    }
   ],
   "source": [
    "for i in t:\n",
    "    print(i.text)"
   ]
  },
  {
   "cell_type": "code",
   "execution_count": 6,
   "metadata": {},
   "outputs": [],
   "source": [
    "a=pd.read_csv('netflix_official_.csv',encoding='utf-8')"
   ]
  },
  {
   "cell_type": "code",
   "execution_count": 43,
   "metadata": {},
   "outputs": [
    {
     "data": {
      "text/html": [
       "<div>\n",
       "<style scoped>\n",
       "    .dataframe tbody tr th:only-of-type {\n",
       "        vertical-align: middle;\n",
       "    }\n",
       "\n",
       "    .dataframe tbody tr th {\n",
       "        vertical-align: top;\n",
       "    }\n",
       "\n",
       "    .dataframe thead th {\n",
       "        text-align: right;\n",
       "    }\n",
       "</style>\n",
       "<table border=\"1\" class=\"dataframe\">\n",
       "  <thead>\n",
       "    <tr style=\"text-align: right;\">\n",
       "      <th></th>\n",
       "      <th>Unnamed: 0</th>\n",
       "      <th>제목</th>\n",
       "      <th>장르모음</th>\n",
       "      <th>시놉시스</th>\n",
       "      <th>특징</th>\n",
       "      <th>출연진</th>\n",
       "      <th>개봉일</th>\n",
       "      <th>등급</th>\n",
       "      <th>상영시간</th>\n",
       "      <th>기본장르</th>\n",
       "      <th>nfid</th>\n",
       "      <th>imdbid</th>\n",
       "    </tr>\n",
       "  </thead>\n",
       "  <tbody>\n",
       "    <tr>\n",
       "      <th>0</th>\n",
       "      <td>0</td>\n",
       "      <td>우주 히어로 키드</td>\n",
       "      <td>키즈 시리즈,가족이 함께 보는 시리즈,코미디 시리즈,만화 시리즈</td>\n",
       "      <td>지구를 지키는 영웅이 되고 싶어요. 이 꿈이 정말로 이뤄질 줄이야! 한 소년이 우주...</td>\n",
       "      <td>유쾌 발랄,흥미진진</td>\n",
       "      <td>잭 피셔,톰 케니,어맨다 C. 밀러,킴 야브로,키스 퍼거슨,그레이 그리핀,릴리 로즈...</td>\n",
       "      <td>2021</td>\n",
       "      <td>\\n전체관람가</td>\n",
       "      <td>시즌 3개</td>\n",
       "      <td>키즈</td>\n",
       "      <td>80244340</td>\n",
       "      <td>tt9248538</td>\n",
       "    </tr>\n",
       "    <tr>\n",
       "      <th>1</th>\n",
       "      <td>0</td>\n",
       "      <td>청소년 v 정부: 기후 정의를 외치다</td>\n",
       "      <td>다큐멘터리 영화,자연 &amp; 생태 다큐멘터리,과학 &amp; 자연 다큐멘터리,사회 &amp; 문화 다...</td>\n",
       "      <td>기후 위기를 초래한 미국 정부의 행태를 두고 볼 수 없었던 21명의 청소년 원고단....</td>\n",
       "      <td>도발적인,감명을 주는</td>\n",
       "      <td>NaN</td>\n",
       "      <td>2020</td>\n",
       "      <td>\\n15+</td>\n",
       "      <td>1시간 49분</td>\n",
       "      <td>다큐멘터리</td>\n",
       "      <td>81586492</td>\n",
       "      <td>tt13192640</td>\n",
       "    </tr>\n",
       "    <tr>\n",
       "      <th>2</th>\n",
       "      <td>0</td>\n",
       "      <td>하프 배드: 선 &amp; 데빌</td>\n",
       "      <td>로맨틱한 드라마,드라마,영국 작품,청소년 시리즈,액션 &amp; 어드벤처 시리즈,판타지 시리즈</td>\n",
       "      <td>전쟁 중인 두 종족 사이에 운명적으로 끼게 된 소년. 끔찍한 학살을 일으킨 악명 높...</td>\n",
       "      <td>폭력적인,흥미진진,로맨틱</td>\n",
       "      <td>제이 라이커고,나디아 파크스,에밀리앵 베크만스,폴 레디,이저벨 제스퍼 존스,캐런 코...</td>\n",
       "      <td>2022</td>\n",
       "      <td>\\n청불</td>\n",
       "      <td>시즌 1개</td>\n",
       "      <td>판타지</td>\n",
       "      <td>81258637</td>\n",
       "      <td>tt16380676</td>\n",
       "    </tr>\n",
       "    <tr>\n",
       "      <th>3</th>\n",
       "      <td>0</td>\n",
       "      <td>Breaking Bad</td>\n",
       "      <td>드라마,범죄 시리즈,미국 TV 프로그램,스릴러 시리즈</td>\n",
       "      <td>말기 암 진단이 그를 범죄의 세계로 밀어 넣었다. 아니, 그런 줄 알았다. 제자와 ...</td>\n",
       "      <td>폭력적인,어두운,긴장감 넘치는</td>\n",
       "      <td>브라이언 크랜스턴,에런 폴,안나 건,딘 노리스,벳시 브랜트,RJ 미티,밥 오든커크,...</td>\n",
       "      <td>2008</td>\n",
       "      <td>\\n19+</td>\n",
       "      <td>시즌 5개</td>\n",
       "      <td>드라마 장르</td>\n",
       "      <td>70143836</td>\n",
       "      <td>tt0903747</td>\n",
       "    </tr>\n",
       "    <tr>\n",
       "      <th>4</th>\n",
       "      <td>0</td>\n",
       "      <td>우리의 지구</td>\n",
       "      <td>가족이 함께 보는 시리즈,영국 작품,자연 &amp; 생태 다큐멘터리,과학 &amp; 자연 TV 프...</td>\n",
       "      <td>압도적인 스케일, 경이로운 영상미 그리고 전 인류를 향한 메시지. 우리 지구에 관한...</td>\n",
       "      <td>감명을 주는</td>\n",
       "      <td>데이비드 애튼버러,</td>\n",
       "      <td>2019</td>\n",
       "      <td>\\n전체관람가</td>\n",
       "      <td>시즌 2개</td>\n",
       "      <td>다큐멘터리</td>\n",
       "      <td>80049832</td>\n",
       "      <td>tt9253866</td>\n",
       "    </tr>\n",
       "    <tr>\n",
       "      <th>5</th>\n",
       "      <td>0</td>\n",
       "      <td>1899</td>\n",
       "      <td>드라마,독일 작품,액션 &amp; 어드벤처 시리즈,스릴러 시리즈</td>\n",
       "      <td>1899년, 이민자들을 싣고 뉴욕으로 향하던 배가 미스터리한 사건을 마주한다. 급격...</td>\n",
       "      <td>발상의 전환,불길한</td>\n",
       "      <td>에밀리 비첨,어나이린 바나드,안드레아스 피치만,미겔 베르나르데아우,조제 피멘탕,이저...</td>\n",
       "      <td>2022</td>\n",
       "      <td>\\n청불</td>\n",
       "      <td>시즌 1개</td>\n",
       "      <td>스릴러</td>\n",
       "      <td>80214497</td>\n",
       "      <td>tt9319668</td>\n",
       "    </tr>\n",
       "    <tr>\n",
       "      <th>6</th>\n",
       "      <td>0</td>\n",
       "      <td>릭 앤 모티</td>\n",
       "      <td>시트콤,SF 시리즈,코미디 시리즈,액션 &amp; 어드벤처 시리즈,미국 TV 프로그램</td>\n",
       "      <td>술에 절어 사는 천재 과학자 릭은 투정이 심한 10대 손자 모티를 데리고 외계와 대...</td>\n",
       "      <td>익살스러운,유쾌 발랄</td>\n",
       "      <td>저스틴 로일랜드,크리스 파넬,스펜서 그래머,세라 초크,</td>\n",
       "      <td>2013</td>\n",
       "      <td>\\n청불</td>\n",
       "      <td>시즌 6개</td>\n",
       "      <td>코미디</td>\n",
       "      <td>80014749</td>\n",
       "      <td>tt2861424</td>\n",
       "    </tr>\n",
       "    <tr>\n",
       "      <th>7</th>\n",
       "      <td>0</td>\n",
       "      <td>마이클 조던: 더 라스트 댄스</td>\n",
       "      <td>다큐시리즈,사회 &amp; 문화 다큐멘터리,미국 TV 프로그램</td>\n",
       "      <td>농구 황제 마이클 조던과 시카고 불스를 다시 만난다. 1997-98 시즌의 미공개 ...</td>\n",
       "      <td>흥미진진</td>\n",
       "      <td>마이클 조던,스코티 피펜,데니스 로드먼,</td>\n",
       "      <td>2020</td>\n",
       "      <td>\\n15+</td>\n",
       "      <td>시즌 1개</td>\n",
       "      <td>다큐멘터리</td>\n",
       "      <td>80203144</td>\n",
       "      <td>tt8420184</td>\n",
       "    </tr>\n",
       "    <tr>\n",
       "      <th>8</th>\n",
       "      <td>0</td>\n",
       "      <td>데이비드 애튼버러: 우리의 지구를 위하여</td>\n",
       "      <td>영국 작품,다큐멘터리 영화,자연 &amp; 생태 다큐멘터리,과학 &amp; 자연 다큐멘터리,실존 ...</td>\n",
       "      <td>바다가 죽어간다. 얼음이 사라진다. 인간이 파괴한 야생의 세계. 일생에 걸쳐 지구의...</td>\n",
       "      <td>거부할 수 없는 이끌림</td>\n",
       "      <td>데이비드 애튼버러,</td>\n",
       "      <td>2020</td>\n",
       "      <td>\\n전체관람가</td>\n",
       "      <td>1시간 23분</td>\n",
       "      <td>다큐멘터리</td>\n",
       "      <td>80216393</td>\n",
       "      <td>tt11989890</td>\n",
       "    </tr>\n",
       "    <tr>\n",
       "      <th>9</th>\n",
       "      <td>0</td>\n",
       "      <td>아바타 아앙의 전설</td>\n",
       "      <td>키즈 시리즈,가족이 함께 보는 시리즈,만화 시리즈,판타지 시리즈</td>\n",
       "      <td>불의 제국이 일으킨 전쟁으로 균형이 깨져 버린 세상. 물, 불, 흙, 공기에 전부 ...</td>\n",
       "      <td>흥미진진</td>\n",
       "      <td>자크 타일러,메이 휘트먼,잭 디세나,디 브래들리 베이커,단테 바스코,제시 플라워,마...</td>\n",
       "      <td>2005</td>\n",
       "      <td>\\n전체관람가</td>\n",
       "      <td>시즌 3개</td>\n",
       "      <td>키즈</td>\n",
       "      <td>70142405</td>\n",
       "      <td>tt0417299</td>\n",
       "    </tr>\n",
       "  </tbody>\n",
       "</table>\n",
       "</div>"
      ],
      "text/plain": [
       "   Unnamed: 0                      제목  \\\n",
       "0           0               우주 히어로 키드   \n",
       "1           0    청소년 v 정부: 기후 정의를 외치다   \n",
       "2           0           하프 배드: 선 & 데빌   \n",
       "3           0            Breaking Bad   \n",
       "4           0                  우리의 지구   \n",
       "5           0                    1899   \n",
       "6           0                  릭 앤 모티   \n",
       "7           0        마이클 조던: 더 라스트 댄스   \n",
       "8           0  데이비드 애튼버러: 우리의 지구를 위하여   \n",
       "9           0              아바타 아앙의 전설   \n",
       "\n",
       "                                                장르모음  \\\n",
       "0                키즈 시리즈,가족이 함께 보는 시리즈,코미디 시리즈,만화 시리즈   \n",
       "1  다큐멘터리 영화,자연 & 생태 다큐멘터리,과학 & 자연 다큐멘터리,사회 & 문화 다...   \n",
       "2   로맨틱한 드라마,드라마,영국 작품,청소년 시리즈,액션 & 어드벤처 시리즈,판타지 시리즈   \n",
       "3                      드라마,범죄 시리즈,미국 TV 프로그램,스릴러 시리즈   \n",
       "4  가족이 함께 보는 시리즈,영국 작품,자연 & 생태 다큐멘터리,과학 & 자연 TV 프...   \n",
       "5                    드라마,독일 작품,액션 & 어드벤처 시리즈,스릴러 시리즈   \n",
       "6        시트콤,SF 시리즈,코미디 시리즈,액션 & 어드벤처 시리즈,미국 TV 프로그램   \n",
       "7                     다큐시리즈,사회 & 문화 다큐멘터리,미국 TV 프로그램   \n",
       "8  영국 작품,다큐멘터리 영화,자연 & 생태 다큐멘터리,과학 & 자연 다큐멘터리,실존 ...   \n",
       "9                키즈 시리즈,가족이 함께 보는 시리즈,만화 시리즈,판타지 시리즈   \n",
       "\n",
       "                                                시놉시스                특징  \\\n",
       "0  지구를 지키는 영웅이 되고 싶어요. 이 꿈이 정말로 이뤄질 줄이야! 한 소년이 우주...        유쾌 발랄,흥미진진   \n",
       "1  기후 위기를 초래한 미국 정부의 행태를 두고 볼 수 없었던 21명의 청소년 원고단....       도발적인,감명을 주는   \n",
       "2  전쟁 중인 두 종족 사이에 운명적으로 끼게 된 소년. 끔찍한 학살을 일으킨 악명 높...     폭력적인,흥미진진,로맨틱   \n",
       "3  말기 암 진단이 그를 범죄의 세계로 밀어 넣었다. 아니, 그런 줄 알았다. 제자와 ...  폭력적인,어두운,긴장감 넘치는   \n",
       "4  압도적인 스케일, 경이로운 영상미 그리고 전 인류를 향한 메시지. 우리 지구에 관한...            감명을 주는   \n",
       "5  1899년, 이민자들을 싣고 뉴욕으로 향하던 배가 미스터리한 사건을 마주한다. 급격...        발상의 전환,불길한   \n",
       "6  술에 절어 사는 천재 과학자 릭은 투정이 심한 10대 손자 모티를 데리고 외계와 대...       익살스러운,유쾌 발랄   \n",
       "7  농구 황제 마이클 조던과 시카고 불스를 다시 만난다. 1997-98 시즌의 미공개 ...              흥미진진   \n",
       "8  바다가 죽어간다. 얼음이 사라진다. 인간이 파괴한 야생의 세계. 일생에 걸쳐 지구의...      거부할 수 없는 이끌림   \n",
       "9  불의 제국이 일으킨 전쟁으로 균형이 깨져 버린 세상. 물, 불, 흙, 공기에 전부 ...              흥미진진   \n",
       "\n",
       "                                                 출연진   개봉일        등급  \\\n",
       "0  잭 피셔,톰 케니,어맨다 C. 밀러,킴 야브로,키스 퍼거슨,그레이 그리핀,릴리 로즈...  2021  \\n전체관람가    \n",
       "1                                                NaN  2020    \\n15+    \n",
       "2  제이 라이커고,나디아 파크스,에밀리앵 베크만스,폴 레디,이저벨 제스퍼 존스,캐런 코...  2022     \\n청불    \n",
       "3  브라이언 크랜스턴,에런 폴,안나 건,딘 노리스,벳시 브랜트,RJ 미티,밥 오든커크,...  2008    \\n19+    \n",
       "4                                         데이비드 애튼버러,  2019  \\n전체관람가    \n",
       "5  에밀리 비첨,어나이린 바나드,안드레아스 피치만,미겔 베르나르데아우,조제 피멘탕,이저...  2022     \\n청불    \n",
       "6                     저스틴 로일랜드,크리스 파넬,스펜서 그래머,세라 초크,  2013     \\n청불    \n",
       "7                             마이클 조던,스코티 피펜,데니스 로드먼,  2020    \\n15+    \n",
       "8                                         데이비드 애튼버러,  2020  \\n전체관람가    \n",
       "9  자크 타일러,메이 휘트먼,잭 디세나,디 브래들리 베이커,단테 바스코,제시 플라워,마...  2005  \\n전체관람가    \n",
       "\n",
       "        상영시간     기본장르      nfid      imdbid  \n",
       "0     시즌 3개        키즈  80244340   tt9248538  \n",
       "1   1시간 49분     다큐멘터리  81586492  tt13192640  \n",
       "2     시즌 1개       판타지  81258637  tt16380676  \n",
       "3     시즌 5개    드라마 장르  70143836   tt0903747  \n",
       "4     시즌 2개     다큐멘터리  80049832   tt9253866  \n",
       "5     시즌 1개       스릴러  80214497   tt9319668  \n",
       "6     시즌 6개       코미디  80014749   tt2861424  \n",
       "7     시즌 1개     다큐멘터리  80203144   tt8420184  \n",
       "8   1시간 23분     다큐멘터리  80216393  tt11989890  \n",
       "9     시즌 3개        키즈  70142405   tt0417299  "
      ]
     },
     "execution_count": 43,
     "metadata": {},
     "output_type": "execute_result"
    }
   ],
   "source": [
    "pd.read_csv('test.csv',encoding='utf-8')"
   ]
  },
  {
   "cell_type": "code",
   "execution_count": 16,
   "metadata": {},
   "outputs": [
    {
     "data": {
      "text/html": [
       "<div>\n",
       "<style scoped>\n",
       "    .dataframe tbody tr th:only-of-type {\n",
       "        vertical-align: middle;\n",
       "    }\n",
       "\n",
       "    .dataframe tbody tr th {\n",
       "        vertical-align: top;\n",
       "    }\n",
       "\n",
       "    .dataframe thead th {\n",
       "        text-align: right;\n",
       "    }\n",
       "</style>\n",
       "<table border=\"1\" class=\"dataframe\">\n",
       "  <thead>\n",
       "    <tr style=\"text-align: right;\">\n",
       "      <th></th>\n",
       "      <th>Unnamed: 0</th>\n",
       "      <th>id</th>\n",
       "      <th>title</th>\n",
       "      <th>img</th>\n",
       "      <th>vtype</th>\n",
       "      <th>nfid</th>\n",
       "      <th>synopsis</th>\n",
       "      <th>avgrating</th>\n",
       "      <th>year</th>\n",
       "      <th>runtime</th>\n",
       "      <th>imdbid</th>\n",
       "      <th>poster</th>\n",
       "      <th>imdbrating</th>\n",
       "      <th>top250</th>\n",
       "      <th>top250tv</th>\n",
       "      <th>clist</th>\n",
       "      <th>titledate</th>\n",
       "    </tr>\n",
       "  </thead>\n",
       "  <tbody>\n",
       "    <tr>\n",
       "      <th>0</th>\n",
       "      <td>0</td>\n",
       "      <td>68518</td>\n",
       "      <td>Kid Cosmic</td>\n",
       "      <td>https://occ-0-4039-1500.1.nflxso.net/dnm/api/v...</td>\n",
       "      <td>series</td>\n",
       "      <td>80244340</td>\n",
       "      <td>A boy&amp;#39;s superhero dreams come true when he...</td>\n",
       "      <td>0.00000</td>\n",
       "      <td>2021</td>\n",
       "      <td>0</td>\n",
       "      <td>tt9248538</td>\n",
       "      <td>https://m.media-amazon.com/images/M/MV5BNmEwNz...</td>\n",
       "      <td>10.0</td>\n",
       "      <td>0.0</td>\n",
       "      <td>0.0</td>\n",
       "      <td>\"CA\":\"Canada\",\"FR\":\"France\",\"DE\":\"Germany\",\"NL...</td>\n",
       "      <td>2021-02-03</td>\n",
       "    </tr>\n",
       "    <tr>\n",
       "      <th>1</th>\n",
       "      <td>1</td>\n",
       "      <td>79125</td>\n",
       "      <td>Youth v Gov</td>\n",
       "      <td>https://occ-0-2851-1432.1.nflxso.net/dnm/api/v...</td>\n",
       "      <td>movie</td>\n",
       "      <td>81586492</td>\n",
       "      <td>This documentary follows the journey of 21 you...</td>\n",
       "      <td>0.00000</td>\n",
       "      <td>2020</td>\n",
       "      <td>6554</td>\n",
       "      <td>tt13192640</td>\n",
       "      <td>https://m.media-amazon.com/images/M/MV5BM2ZjMz...</td>\n",
       "      <td>9.6</td>\n",
       "      <td>NaN</td>\n",
       "      <td>NaN</td>\n",
       "      <td>\"CA\":\"Canada\",\"FR\":\"France\",\"DE\":\"Germany\",\"NL...</td>\n",
       "      <td>2022-04-29</td>\n",
       "    </tr>\n",
       "    <tr>\n",
       "      <th>2</th>\n",
       "      <td>2</td>\n",
       "      <td>82867</td>\n",
       "      <td>The Bastard Son &amp; The Devil Himself</td>\n",
       "      <td>https://occ-0-363-2567.1.nflxso.net/dnm/api/v6...</td>\n",
       "      <td>series</td>\n",
       "      <td>81258637</td>\n",
       "      <td>Caught between two warring clans, the son of a...</td>\n",
       "      <td>0.00000</td>\n",
       "      <td>2022</td>\n",
       "      <td>0</td>\n",
       "      <td>tt16380676</td>\n",
       "      <td>https://m.media-amazon.com/images/M/MV5BNTRjYT...</td>\n",
       "      <td>9.6</td>\n",
       "      <td>NaN</td>\n",
       "      <td>NaN</td>\n",
       "      <td>\"CA\":\"Canada\",\"FR\":\"France\",\"DE\":\"Germany\",\"NL...</td>\n",
       "      <td>2022-10-28</td>\n",
       "    </tr>\n",
       "    <tr>\n",
       "      <th>3</th>\n",
       "      <td>3</td>\n",
       "      <td>26333</td>\n",
       "      <td>Breaking Bad</td>\n",
       "      <td>https://occ-0-2851-38.1.nflxso.net/dnm/api/v6/...</td>\n",
       "      <td>series</td>\n",
       "      <td>70143836</td>\n",
       "      <td>A terminally ill chemistry teacher teams with ...</td>\n",
       "      <td>4.48224</td>\n",
       "      <td>2008</td>\n",
       "      <td>0</td>\n",
       "      <td>tt0903747</td>\n",
       "      <td>https://images-na.ssl-images-amazon.com/images...</td>\n",
       "      <td>9.5</td>\n",
       "      <td>0.0</td>\n",
       "      <td>4.0</td>\n",
       "      <td>\"CA\":\"Canada\",\"FR\":\"France\",\"DE\":\"Germany\",\"NL...</td>\n",
       "      <td>2015-04-14</td>\n",
       "    </tr>\n",
       "    <tr>\n",
       "      <th>4</th>\n",
       "      <td>4</td>\n",
       "      <td>61645</td>\n",
       "      <td>Our Planet</td>\n",
       "      <td>https://occ-0-2851-38.1.nflxso.net/dnm/api/v6/...</td>\n",
       "      <td>series</td>\n",
       "      <td>80049832</td>\n",
       "      <td>Experience our planet&amp;#39;s natural beauty and...</td>\n",
       "      <td>0.00000</td>\n",
       "      <td>2019</td>\n",
       "      <td>0</td>\n",
       "      <td>tt9253866</td>\n",
       "      <td>https://m.media-amazon.com/images/M/MV5BMDE5YT...</td>\n",
       "      <td>9.3</td>\n",
       "      <td>0.0</td>\n",
       "      <td>8.0</td>\n",
       "      <td>\"CA\":\"Canada\",\"FR\":\"France\",\"DE\":\"Germany\",\"NL...</td>\n",
       "      <td>2019-04-05</td>\n",
       "    </tr>\n",
       "  </tbody>\n",
       "</table>\n",
       "</div>"
      ],
      "text/plain": [
       "   Unnamed: 0     id                                title  \\\n",
       "0           0  68518                           Kid Cosmic   \n",
       "1           1  79125                          Youth v Gov   \n",
       "2           2  82867  The Bastard Son & The Devil Himself   \n",
       "3           3  26333                         Breaking Bad   \n",
       "4           4  61645                           Our Planet   \n",
       "\n",
       "                                                 img   vtype      nfid  \\\n",
       "0  https://occ-0-4039-1500.1.nflxso.net/dnm/api/v...  series  80244340   \n",
       "1  https://occ-0-2851-1432.1.nflxso.net/dnm/api/v...   movie  81586492   \n",
       "2  https://occ-0-363-2567.1.nflxso.net/dnm/api/v6...  series  81258637   \n",
       "3  https://occ-0-2851-38.1.nflxso.net/dnm/api/v6/...  series  70143836   \n",
       "4  https://occ-0-2851-38.1.nflxso.net/dnm/api/v6/...  series  80049832   \n",
       "\n",
       "                                            synopsis  avgrating  year  \\\n",
       "0  A boy&#39;s superhero dreams come true when he...    0.00000  2021   \n",
       "1  This documentary follows the journey of 21 you...    0.00000  2020   \n",
       "2  Caught between two warring clans, the son of a...    0.00000  2022   \n",
       "3  A terminally ill chemistry teacher teams with ...    4.48224  2008   \n",
       "4  Experience our planet&#39;s natural beauty and...    0.00000  2019   \n",
       "\n",
       "   runtime      imdbid                                             poster  \\\n",
       "0        0   tt9248538  https://m.media-amazon.com/images/M/MV5BNmEwNz...   \n",
       "1     6554  tt13192640  https://m.media-amazon.com/images/M/MV5BM2ZjMz...   \n",
       "2        0  tt16380676  https://m.media-amazon.com/images/M/MV5BNTRjYT...   \n",
       "3        0   tt0903747  https://images-na.ssl-images-amazon.com/images...   \n",
       "4        0   tt9253866  https://m.media-amazon.com/images/M/MV5BMDE5YT...   \n",
       "\n",
       "   imdbrating  top250  top250tv  \\\n",
       "0        10.0     0.0       0.0   \n",
       "1         9.6     NaN       NaN   \n",
       "2         9.6     NaN       NaN   \n",
       "3         9.5     0.0       4.0   \n",
       "4         9.3     0.0       8.0   \n",
       "\n",
       "                                               clist   titledate  \n",
       "0  \"CA\":\"Canada\",\"FR\":\"France\",\"DE\":\"Germany\",\"NL...  2021-02-03  \n",
       "1  \"CA\":\"Canada\",\"FR\":\"France\",\"DE\":\"Germany\",\"NL...  2022-04-29  \n",
       "2  \"CA\":\"Canada\",\"FR\":\"France\",\"DE\":\"Germany\",\"NL...  2022-10-28  \n",
       "3  \"CA\":\"Canada\",\"FR\":\"France\",\"DE\":\"Germany\",\"NL...  2015-04-14  \n",
       "4  \"CA\":\"Canada\",\"FR\":\"France\",\"DE\":\"Germany\",\"NL...  2019-04-05  "
      ]
     },
     "execution_count": 16,
     "metadata": {},
     "output_type": "execute_result"
    }
   ],
   "source": [
    "path = pathlib.Path('../../data/netflix/netflix_title.csv')\n",
    "netflix_csv = pd.read_csv(path)\n",
    "netflix_csv.head()"
   ]
  },
  {
   "cell_type": "code",
   "execution_count": 37,
   "metadata": {},
   "outputs": [
    {
     "data": {
      "text/plain": [
       "81586492"
      ]
     },
     "execution_count": 37,
     "metadata": {},
     "output_type": "execute_result"
    }
   ],
   "source": [
    "netflix_csv[netflix_csv['nfid']==81586492][['nfid','imdbid']].values[0][0]"
   ]
  },
  {
   "cell_type": "code",
   "execution_count": null,
   "metadata": {},
   "outputs": [],
   "source": []
  }
 ],
 "metadata": {
  "kernelspec": {
   "display_name": "bert",
   "language": "python",
   "name": "python3"
  },
  "language_info": {
   "codemirror_mode": {
    "name": "ipython",
    "version": 3
   },
   "file_extension": ".py",
   "mimetype": "text/x-python",
   "name": "python",
   "nbconvert_exporter": "python",
   "pygments_lexer": "ipython3",
   "version": "3.9.7"
  },
  "orig_nbformat": 4
 },
 "nbformat": 4,
 "nbformat_minor": 2
}
